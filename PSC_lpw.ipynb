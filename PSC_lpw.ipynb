{
 "cells": [
  {
   "cell_type": "code",
   "execution_count": 1,
   "id": "b327e3d6",
   "metadata": {},
   "outputs": [
    {
     "name": "stdout",
     "output_type": "stream",
     "text": [
      "first number is 1\n",
      "second number is 25\n"
     ]
    }
   ],
   "source": [
    "a,b = input(\"Enter two numbers: \").split()\n",
    "print(\"first number is\", a)\n",
    "print(\"second number is\", b)"
   ]
  },
  {
   "cell_type": "code",
   "execution_count": 3,
   "id": "f85098a8",
   "metadata": {},
   "outputs": [
    {
     "name": "stdout",
     "output_type": "stream",
     "text": [
      "Name     : Alice     \n",
      "Score    :       92.5\n",
      "Centered :   Alice   \n",
      "Padded   : --Alice---\n",
      "Formatted: |     right|\n",
      "Formatted: |left      |\n",
      "Formatted: |  center  |\n",
      "\n",
      "\n",
      "Before changing, id(a): 140707652057816\n",
      "After changing, id(a): 140707652057976\n",
      "Integers are immutable\n",
      "\n",
      "Before modifying, id(my_list): 2650510580928\n",
      "After modifying, id(my_list): 2650510580928\n",
      "Lists are mutable\n"
     ]
    }
   ],
   "source": [
    "# PRINT STATEMENT INCLUDING PADDING & ALIGNMENT\n",
    "name = \"Alice\"\n",
    "score = 92.5\n",
    "\n",
    "\n",
    "print(f\"Name     : {name:<10}\")  \n",
    "print(f\"Score    : {score:>10}\")  \n",
    "print(f\"Centered : {name:^10}\")  \n",
    "print(f\"Padded   : {name:-^10}\")  \n",
    "\n",
    "# Using str.format()\n",
    "print(\"Formatted: |{:>10}|\".format(\"right\"))  \n",
    "print(\"Formatted: |{:<10}|\".format(\"left\"))   \n",
    "print(\"Formatted: |{:^10}|\".format(\"center\")) \n",
    "\n",
    "print(\"\\n\")\n",
    "\n",
    "# MUTABLE AND IMMUTABLE OBJECT\n",
    "\n",
    "a = 10\n",
    "print(\"Before changing, id(a):\", id(a))\n",
    "a += 5\n",
    "print(\"After changing, id(a):\", id(a)) \n",
    "print(\"Integers are immutable\\n\")\n",
    "\n",
    "# Mutable object example: lists\n",
    "my_list = [1, 2, 3]\n",
    "print(\"Before modifying, id(my_list):\", id(my_list))\n",
    "my_list.append(4)\n",
    "print(\"After modifying, id(my_list):\", id(my_list)) \n",
    "print(\"Lists are mutable\")\n"
   ]
  },
  {
   "cell_type": "code",
   "execution_count": 4,
   "id": "e462f95e",
   "metadata": {},
   "outputs": [
    {
     "name": "stdout",
     "output_type": "stream",
     "text": [
      "Digit: 5\n",
      "Digit: 6\n",
      "Digit: 2\n"
     ]
    }
   ],
   "source": [
    "num = int(input(\"Enter a number to check if it is a magic number: \"))\n",
    "\n",
    "while num > 0:\n",
    "    digit = num % 10\n",
    "    print(\"Digit:\", digit)\n",
    "    num = num // 10"
   ]
  },
  {
   "cell_type": "code",
   "execution_count": 5,
   "id": "d6892897",
   "metadata": {},
   "outputs": [
    {
     "name": "stdout",
     "output_type": "stream",
     "text": [
      "reversed number: 3842\n"
     ]
    }
   ],
   "source": [
    "num = int(input(\"Enter a number to check if it is a magic number: \"))\n",
    "rev = 0\n",
    "while num > 0:\n",
    "    digit = num % 10\n",
    "    rev = rev * 10 + digit\n",
    "    num = num // 10\n",
    "\n",
    "print(\"reversed number:\", rev)"
   ]
  },
  {
   "cell_type": "code",
   "execution_count": 6,
   "id": "6066dfdf",
   "metadata": {},
   "outputs": [
    {
     "name": "stdout",
     "output_type": "stream",
     "text": [
      "Digit: 7\n",
      "Digit: 8\n",
      "Digit: 6\n",
      "Digit: 5\n",
      "Digit: 4\n"
     ]
    }
   ],
   "source": [
    "num = int(input(\"Enter a number to check if it is a magic number: \"))\n",
    "\n",
    "while num > 0:\n",
    "    digit = num % 10\n",
    "    print(\"Digit:\", digit)\n",
    "    num = num // 10"
   ]
  },
  {
   "cell_type": "code",
   "execution_count": 7,
   "id": "58737142",
   "metadata": {},
   "outputs": [
    {
     "name": "stdout",
     "output_type": "stream",
     "text": [
      "Email address entered: 23bec065@nirmauni.ac.in\n",
      "Valid email address\n"
     ]
    }
   ],
   "source": [
    "import re\n",
    "#23bec065@nirmauni.ac.in\n",
    "email = input(\"Enter your email address: \")\n",
    "print(\"Email address entered:\", email)\n",
    "valid_str = r\"^[a-zA-Z0-9._-]+@[a-zA-Z0-9-]+(\\.[a-zA-Z]{2,}){2}$\"\n",
    "\n",
    "if re.fullmatch(valid_str, email):\n",
    "    print(\"Valid email address\")\n",
    "else:\n",
    "    print(\"Invalid email address\")"
   ]
  },
  {
   "cell_type": "code",
   "execution_count": 8,
   "id": "7be22fa8",
   "metadata": {},
   "outputs": [
    {
     "name": "stdout",
     "output_type": "stream",
     "text": [
      "List of numbers is: [45, 7, 23, 4, 100, 78]\n",
      "Sum of the list is: 257\n",
      "Maximum value in the list is: 100\n",
      "Sorted list is: [4, 7, 23, 45, 78, 100]\n"
     ]
    }
   ],
   "source": [
    "list_1 = [int(x) for x in input(\"Enter numbers separated by spaces: \").split()]\n",
    "print(\"List of numbers is:\", list_1)\n",
    "\n",
    "def sum (list_1):\n",
    "    sum1 = 0\n",
    "    for i in range(len(list_1)):\n",
    "        sum1 = sum1 + list_1[i]\n",
    "    return (sum1)\n",
    "\n",
    "def maxv (list_1):\n",
    "    for i in range(len(list_1)):\n",
    "        if i == 0:\n",
    "            max_value = list_1[i]\n",
    "        elif list_1[i] > max_value:\n",
    "            max_value = list_1[i]\n",
    "    return max_value\n",
    "\n",
    "def sortl (list_1):\n",
    "    a = list_1[0]\n",
    "    acc = []\n",
    "    for i in range(len(list_1)):\n",
    "        min_idx = i\n",
    "        for j in range(i+1, len(list_1)):\n",
    "            if list_1[j] < list_1[min_idx]:\n",
    "                min_idx = j\n",
    "        acc.append(list_1[min_idx])\n",
    "        list_1[i], list_1[min_idx] = list_1[min_idx], list_1[i]\n",
    "    return list_1\n",
    "\n",
    "\n",
    "print(\"Sum of the list is:\", sum(list_1))\n",
    "\n",
    "print(\"Maximum value in the list is:\", maxv(list_1))\n",
    "\n",
    "print(\"Sorted list is:\", sortl(list_1))\n",
    "\n"
   ]
  },
  {
   "cell_type": "code",
   "execution_count": 9,
   "id": "269cff7f",
   "metadata": {},
   "outputs": [
    {
     "name": "stdout",
     "output_type": "stream",
     "text": [
      "{'apple': 50, 'banana': 20, 'orange': 30, 'grape': 40, 'mango': 60}\n",
      "The price of apple is: 50\n",
      "Updated fruit dictionary: {'apple': 50, 'banana': 20, 'orange': 30, 'grape': 40, 'mango': 60, 'ornage': 86}\n"
     ]
    }
   ],
   "source": [
    "fruit_names = ('apple', 'banana', 'orange', 'grape', 'mango')\n",
    "fruit_prices = (50, 20, 30, 40, 60)\n",
    "\n",
    "fruit_dict = {}\n",
    "\n",
    "def combine (fruit_names, fruit_prices):\n",
    "    for idx in range(len(fruit_names)):\n",
    "        fruit_dict[fruit_names[idx]] = fruit_prices[idx]\n",
    "    return fruit_dict\n",
    "\n",
    "def price_check(fruit_names, fruit_prices):\n",
    "    user_fruit = input(\"Enter a fruit name to check its price: \")\n",
    "    if user_fruit in fruit_dict:\n",
    "        print(f\"The price of {user_fruit} is: {fruit_dict[user_fruit]}\")\n",
    "\n",
    "\n",
    "def new_element(fruit_names, fruit_prices):\n",
    "    new_fruit = input(\"Enter a new fruit name: \")\n",
    "    new_price = int(input(\"Enter the price of the new fruit: \"))\n",
    "    fruit_dict[new_fruit] = new_price\n",
    "    print(\"Updated fruit dictionary:\", fruit_dict)\n",
    "\n",
    "print(combine(fruit_names, fruit_prices))\n",
    "price_check(fruit_names, fruit_prices)\n",
    "new_element(fruit_names, fruit_prices)"
   ]
  },
  {
   "cell_type": "code",
   "execution_count": 10,
   "id": "61d8160d",
   "metadata": {},
   "outputs": [
    {
     "name": "stdout",
     "output_type": "stream",
     "text": [
      "Students enrolled in both courses: {'Charlie', 'David'}\n",
      "Students enrolled in mathematics but not in physics: {'Bob', 'Alice'}\n"
     ]
    }
   ],
   "source": [
    "math_students = {'Alice', 'Bob', 'Charlie', 'David'}\n",
    "physics_students = {'Charlie', 'David', 'Eve', 'Frank'}\n",
    "\n",
    "def inter (math_students, physics_students):\n",
    "    both_courses = []\n",
    "    for student in math_students:\n",
    "        if student in physics_students:\n",
    "            both_courses.append(student)\n",
    "    print(\"Students enrolled in both courses:\", set(both_courses))\n",
    "\n",
    "def diff (math_students, physics_students):\n",
    "    math_only = set()\n",
    "    for student in math_students:\n",
    "        if student not in physics_students:\n",
    "            math_only.add(student)\n",
    "    print(\"Students enrolled in mathematics but not in physics:\", math_only)\n",
    "\n",
    "inter(math_students, physics_students)\n",
    "diff(math_students, physics_students)"
   ]
  },
  {
   "cell_type": "code",
   "execution_count": 12,
   "id": "6999a0f9",
   "metadata": {},
   "outputs": [
    {
     "name": "stdout",
     "output_type": "stream",
     "text": [
      "* \n",
      "* * \n",
      "* * * \n",
      "* * * * \n",
      "* * * * * \n",
      "\n",
      "\n",
      "* * * * * \n",
      "* * * * \n",
      "* * * \n",
      "* * \n",
      "* \n",
      "\n",
      "\n",
      "*****\n",
      " ****\n",
      "  ***\n",
      "   **\n",
      "    *\n",
      "\n",
      "\n",
      "     *\n",
      "    **\n",
      "   ***\n",
      "  ****\n",
      " *****\n",
      "\n",
      "\n",
      "     * \n",
      "    * * \n",
      "   * * * \n",
      "  * * * * \n",
      " * * * * * \n",
      "\n",
      "\n",
      "    1\n",
      "   12\n",
      "  123\n",
      " 1234\n",
      "12345\n",
      "\n",
      "\n",
      "    1\n",
      "   123\n",
      "  12345\n",
      " 1234567\n",
      "123456789\n"
     ]
    }
   ],
   "source": [
    "b = int(input(\"Enter a number: \"))\n",
    "\n",
    "for i in range(b):\n",
    "    print(\"* \" * (i + 1))\n",
    "print('\\n')\n",
    "for i in range(b):\n",
    "    print(\"* \" * (b - i))\n",
    "print('\\n')\n",
    "for i in range(b):\n",
    "    print(\" \" * (i)+\"*\" * (b - i))\n",
    "print('\\n')\n",
    "for i in range(b):\n",
    "    print(\" \" * (b - i) + \"*\" * (i + 1))\n",
    "print('\\n')\n",
    "for i in range(b):\n",
    "    print(\" \" * (b - i) + \"* \" * (i + 1))\n",
    "print('\\n')\n",
    "for i in range(1, b + 1):\n",
    "    print(\" \" * (b - i) + \"\".join(str(j) for j in range(1, i + 1)))\n",
    "print('\\n')\n",
    "for i in range(1, b + 1):\n",
    "    print(\" \" * (b - i) + \"\".join(str(j) for j in range(1, 2 * i)))\n",
    "\n"
   ]
  },
  {
   "cell_type": "code",
   "execution_count": 13,
   "id": "4bc548ff",
   "metadata": {},
   "outputs": [
    {
     "name": "stdout",
     "output_type": "stream",
     "text": [
      "Are 17 and 23 co-prime? True\n",
      "Are 12 and 18 co-prime? False\n",
      "Not co-prime\n"
     ]
    }
   ],
   "source": [
    "import math\n",
    "\n",
    "def is_coprime(num1: int, num2: int) -> bool:\n",
    "  return math.gcd(num1, num2) == 1\n",
    "\n",
    "# Example usage:\n",
    "print(f\"Are 17 and 23 co-prime? {is_coprime(17, 23)}\")\n",
    "print(f\"Are 12 and 18 co-prime? {is_coprime(12, 18)}\")\n",
    "\n",
    "def fact(num1):\n",
    "    ls = []\n",
    "    for i in range(2, num1):\n",
    "        if num1 % i == 0:\n",
    "            ls.append(i)\n",
    "    return ls\n",
    "\n",
    "numlist = list(map(int, input(\"Enter two numbers: \").split()))\n",
    "ls1, ls2 = map(fact, numlist)\n",
    "\n",
    "if set(ls1) & set(ls2):\n",
    "    print(\"Not co-prime\")\n",
    "else:\n",
    "    print(\"Co-prime\")\n"
   ]
  },
  {
   "cell_type": "code",
   "execution_count": 14,
   "id": "d832c4cd",
   "metadata": {},
   "outputs": [
    {
     "name": "stdout",
     "output_type": "stream",
     "text": [
      "[1, 4, 9, 16, 25, 36, 49, 64, 81, 100]\n"
     ]
    }
   ],
   "source": [
    "def square_number(number):\n",
    "  return number ** 2\n",
    "\n",
    "squared_numbers = []\n",
    "for i in range(1, 11):\n",
    "  squared_numbers.append(square_number(i))\n",
    "\n",
    "print(squared_numbers)"
   ]
  },
  {
   "cell_type": "code",
   "execution_count": 15,
   "id": "21688609",
   "metadata": {},
   "outputs": [
    {
     "name": "stdout",
     "output_type": "stream",
     "text": [
      "'racecar' is a palindrome: True\n",
      "'hello' is a palindrome: False\n",
      "Length of 'example': 7\n",
      "Reversed 'world': dlrow\n"
     ]
    }
   ],
   "source": [
    "def is_palindrome(input_string: str) -> bool:\n",
    "  cleaned_string = input_string.lower()\n",
    "  return cleaned_string == cleaned_string[::-1]\n",
    "\n",
    "def string_length(input_string: str) -> int:\n",
    "  return len(input_string)\n",
    "\n",
    "def reverse_string(input_string: str) -> str:\n",
    "  return input_string[::-1]\n",
    "\n",
    "# Example usage:\n",
    "print(f\"'racecar' is a palindrome: {is_palindrome('racecar')}\")\n",
    "print(f\"'hello' is a palindrome: {is_palindrome('hello')}\")\n",
    "print(f\"Length of 'example': {string_length('example')}\")\n",
    "print(f\"Reversed 'world': {reverse_string('world')}\")"
   ]
  },
  {
   "cell_type": "code",
   "execution_count": 16,
   "id": "91636eed",
   "metadata": {},
   "outputs": [
    {
     "name": "stdout",
     "output_type": "stream",
     "text": [
      "\n",
      "String Operations Menu:\n",
      "1. Check for Palindrome\n",
      "2. Find String Length\n",
      "3. Reverse String\n",
      "4. Exit\n",
      "'123456' is not a palindrome.\n",
      "\n",
      "String Operations Menu:\n",
      "1. Check for Palindrome\n",
      "2. Find String Length\n",
      "3. Reverse String\n",
      "4. Exit\n",
      "Invalid choice. Please try again.\n",
      "\n",
      "String Operations Menu:\n",
      "1. Check for Palindrome\n",
      "2. Find String Length\n",
      "3. Reverse String\n",
      "4. Exit\n",
      "Invalid choice. Please try again.\n",
      "\n",
      "String Operations Menu:\n",
      "1. Check for Palindrome\n",
      "2. Find String Length\n",
      "3. Reverse String\n",
      "4. Exit\n",
      "Invalid choice. Please try again.\n",
      "\n",
      "String Operations Menu:\n",
      "1. Check for Palindrome\n",
      "2. Find String Length\n",
      "3. Reverse String\n",
      "4. Exit\n",
      "Invalid choice. Please try again.\n",
      "\n",
      "String Operations Menu:\n",
      "1. Check for Palindrome\n",
      "2. Find String Length\n",
      "3. Reverse String\n",
      "4. Exit\n",
      "Exiting program.\n"
     ]
    }
   ],
   "source": [
    "while True:\n",
    "  print(\"\\nString Operations Menu:\")\n",
    "  print(\"1. Check for Palindrome\")\n",
    "  print(\"2. Find String Length\")\n",
    "  print(\"3. Reverse String\")\n",
    "  print(\"4. Exit\")\n",
    "\n",
    "  choice = input(\"Enter your choice: \")\n",
    "\n",
    "  if choice == '1':\n",
    "    input_str = input(\"Enter a string: \")\n",
    "    if is_palindrome(input_str):\n",
    "      print(f\"'{input_str}' is a palindrome.\")\n",
    "    else:\n",
    "      print(f\"'{input_str}' is not a palindrome.\")\n",
    "  elif choice == '2':\n",
    "    input_str = input(\"Enter a string: \")\n",
    "    length = string_length(input_str)\n",
    "    print(f\"The length of '{input_str}' is {length}.\")\n",
    "  elif choice == '3':\n",
    "    input_str = input(\"Enter a string: \")\n",
    "    reversed_str = reverse_string(input_str)\n",
    "    print(f\"The reversed string is: '{reversed_str}'\")\n",
    "  elif choice == '4':\n",
    "    print(\"Exiting program.\")\n",
    "    break\n",
    "  else:\n",
    "    print(\"Invalid choice. Please try again.\")\n"
   ]
  },
  {
   "cell_type": "code",
   "execution_count": 17,
   "id": "3e39846d",
   "metadata": {},
   "outputs": [],
   "source": [
    "with open('input.txt', 'w') as f:\n",
    "  f.write('10\\n')\n",
    "  f.write('25\\n')\n",
    "  f.write('30\\n')\n",
    "  f.write('15\\n')\n",
    "  f.write('5\\n')"
   ]
  },
  {
   "cell_type": "code",
   "execution_count": 18,
   "id": "a6553eb4",
   "metadata": {},
   "outputs": [
    {
     "name": "stdout",
     "output_type": "stream",
     "text": [
      "Processing complete. The sum (85) has been written to output.txt\n"
     ]
    }
   ],
   "source": [
    "# Read data from input.txt, process it, and write the result to output.txt\n",
    "total_sum = 0\n",
    "with open('input.txt', 'r') as infile:\n",
    "  for line in infile:\n",
    "    try:\n",
    "      number = int(line.strip())\n",
    "      total_sum += number\n",
    "    except ValueError:\n",
    "      print(f\"Skipping invalid number: {line.strip()}\")\n",
    "\n",
    "with open('output.txt', 'w') as outfile:\n",
    "  outfile.write(f\"The sum of the numbers is: {total_sum}\\n\")\n",
    "\n",
    "print(f\"Processing complete. The sum ({total_sum}) has been written to output.txt\")"
   ]
  },
  {
   "cell_type": "code",
   "execution_count": 19,
   "id": "9676cafb",
   "metadata": {},
   "outputs": [
    {
     "name": "stdout",
     "output_type": "stream",
     "text": [
      "5 is a prime number.\n"
     ]
    }
   ],
   "source": [
    "import math\n",
    "\n",
    "try:\n",
    "  user_input = input(\"Enter an integer: \")\n",
    "  number = int(user_input)\n",
    "\n",
    "  if number <= 1:\n",
    "    print(f\"{number} is not a prime number.\")\n",
    "  else:\n",
    "    is_prime = True\n",
    "    for i in range(2, int(math.sqrt(number)) + 1):\n",
    "      if number % i == 0:\n",
    "        print(f\"{number} is not a prime number.\")\n",
    "        is_prime = False\n",
    "        break\n",
    "    if is_prime:\n",
    "       print(f\"{number} is a prime number.\")\n",
    "\n",
    "except ValueError:\n",
    "  print(\"Invalid input. Please enter an integer.\")"
   ]
  },
  {
   "cell_type": "code",
   "execution_count": 20,
   "id": "bf4b78aa",
   "metadata": {},
   "outputs": [
    {
     "name": "stdout",
     "output_type": "stream",
     "text": [
      "Initial Balance: 1000\n",
      "Deposit of 500 successful. New balance: 1500\n",
      "Withdrawal of 200 successful. New balance: 1300\n",
      "Final Balance: 1300\n",
      "Deposit amount must be positive.\n",
      "Insufficient balance.\n",
      "Balance cannot be negative.\n"
     ]
    }
   ],
   "source": [
    "class BankAccount:\n",
    "    def __init__(self, account_number, account_holder_name, balance=0):\n",
    "        self._account_number = account_number  # Private attribute\n",
    "        self._account_holder_name = account_holder_name  # Private attribute\n",
    "        self._balance = balance  # Private attribute\n",
    "\n",
    "    # Getter for account number\n",
    "    def get_account_number(self):\n",
    "        return self._account_number\n",
    "\n",
    "    # Setter for account number (optional, can be omitted if account number should not be changed)\n",
    "    def set_account_number(self, account_number):\n",
    "        self._account_number = account_number\n",
    "\n",
    "    # Getter for account holder name\n",
    "    def get_account_holder_name(self):\n",
    "        return self._account_holder_name\n",
    "\n",
    "    # Setter for account holder name\n",
    "    def set_account_holder_name(self, account_holder_name):\n",
    "        self._account_holder_name = account_holder_name\n",
    "\n",
    "    # Getter for balance\n",
    "    def get_balance(self):\n",
    "        return self._balance\n",
    "\n",
    "    # Setter for balance (optional, balance is typically changed through deposit/withdrawal)\n",
    "    def set_balance(self, balance):\n",
    "        if balance >= 0:\n",
    "            self._balance = balance\n",
    "        else:\n",
    "            print(\"Balance cannot be negative.\")\n",
    "\n",
    "    # Method for deposit\n",
    "    def deposit(self, amount):\n",
    "        if amount > 0:\n",
    "            self._balance += amount\n",
    "            print(f\"Deposit of {amount} successful. New balance: {self._balance}\")\n",
    "        else:\n",
    "            print(\"Deposit amount must be positive.\")\n",
    "\n",
    "    # Method for withdrawal\n",
    "    def withdraw(self, amount):\n",
    "        if amount > 0:\n",
    "            if self._balance >= amount:\n",
    "                self._balance -= amount\n",
    "                print(f\"Withdrawal of {amount} successful. New balance: {self._balance}\")\n",
    "            else:\n",
    "                print(\"Insufficient balance.\")\n",
    "        else:\n",
    "            print(\"Withdrawal amount must be positive.\")\n",
    "\n",
    "my_account = BankAccount(\"123456789\", \"John Doe\", 1000)\n",
    "print(f\"Initial Balance: {my_account.get_balance()}\")\n",
    "my_account.deposit(500)\n",
    "my_account.withdraw(200)\n",
    "print(f\"Final Balance: {my_account.get_balance()}\")\n",
    "\n",
    "\n",
    "my_account.deposit(-100)\n",
    "my_account.withdraw(2000)\n",
    "my_account.set_balance(-500) \n"
   ]
  },
  {
   "cell_type": "code",
   "execution_count": 21,
   "id": "56c36907",
   "metadata": {},
   "outputs": [
    {
     "name": "stdout",
     "output_type": "stream",
     "text": [
      "Student Name: Charlie\n",
      "Birthdate: 1999-08-30\n",
      "City: San Francisco\n",
      "Roll Number: G456\n",
      "Branch: Electrical Engineering\n",
      "Year: 2023\n",
      "Total Marks: 458\n",
      "Percentage: 91.60000000000001%\n",
      "--------------------\n",
      "Student Name: David\n",
      "Birthdate: 1997-03-10\n",
      "City: Berlin\n",
      "Roll Number: PG789\n",
      "Branch: Chemistry\n",
      "Year: 2025\n",
      "Total Marks: 250\n",
      "Percentage: 83.33333333333334%\n"
     ]
    }
   ],
   "source": [
    "class Person:\n",
    "    def __init__(self, name, birthdate, city):\n",
    "        self.name = name\n",
    "        self.birthdate = birthdate\n",
    "        self.city = city\n",
    "\n",
    "class Student(Person):\n",
    "    def __init__(self, name, birthdate, city, rollno, branch, totalMarks, year):\n",
    "        super().__init__(name, birthdate, city)\n",
    "        self.rollno = rollno\n",
    "        self.branch = branch\n",
    "        self.totalMarks = totalMarks\n",
    "        self.year = year\n",
    "\n",
    "    def percentage(self):\n",
    "        pass # This will be overridden in subclasses\n",
    "\n",
    "class Grad(Student):\n",
    "    def __init__(self, name, birthdate, city, rollno, branch, year):\n",
    "        totalMarks = int(input(\"Enter total marks for Grad student (out of 500): \"))\n",
    "        super().__init__(name, birthdate, city, rollno, branch, totalMarks, year)\n",
    "\n",
    "    def percentage(self):\n",
    "        return (self.totalMarks / 500) * 100\n",
    "\n",
    "class PostGrad(Student):\n",
    "    def __init__(self, name, birthdate, city, rollno, branch, year):\n",
    "        totalMarks = int(input(\"Enter total marks for PostGrad student (out of 300): \"))\n",
    "        super().__init__(name, birthdate, city, rollno, branch, totalMarks, year)\n",
    "\n",
    "    def percentage(self):\n",
    "        return (self.totalMarks / 300) * 100\n",
    "\n",
    "grad_student_2 = Grad(\"Charlie\", \"1999-08-30\", \"San Francisco\", \"G456\", \"Electrical Engineering\", 2023)\n",
    "print(f\"Student Name: {grad_student_2.name}\")\n",
    "print(f\"Birthdate: {grad_student_2.birthdate}\")\n",
    "print(f\"City: {grad_student_2.city}\")\n",
    "print(f\"Roll Number: {grad_student_2.rollno}\")\n",
    "print(f\"Branch: {grad_student_2.branch}\")\n",
    "print(f\"Year: {grad_student_2.year}\")\n",
    "print(f\"Total Marks: {grad_student_2.totalMarks}\")\n",
    "print(f\"Percentage: {grad_student_2.percentage()}%\")\n",
    "\n",
    "print(\"-\" * 20)\n",
    "\n",
    "postgrad_student_2 = PostGrad(\"David\", \"1997-03-10\", \"Berlin\", \"PG789\", \"Chemistry\", 2025)\n",
    "print(f\"Student Name: {postgrad_student_2.name}\")\n",
    "print(f\"Birthdate: {postgrad_student_2.birthdate}\")\n",
    "print(f\"City: {postgrad_student_2.city}\")\n",
    "print(f\"Roll Number: {postgrad_student_2.rollno}\")\n",
    "print(f\"Branch: {postgrad_student_2.branch}\")\n",
    "print(f\"Year: {postgrad_student_2.year}\")\n",
    "print(f\"Total Marks: {postgrad_student_2.totalMarks}\")\n",
    "print(f\"Percentage: {postgrad_student_2.percentage()}%\")"
   ]
  },
  {
   "cell_type": "code",
   "execution_count": 22,
   "id": "e05d59c1",
   "metadata": {},
   "outputs": [
    {
     "name": "stdout",
     "output_type": "stream",
     "text": [
      "Sum of vector_a and vector_b: [5 7 9]\n",
      "Difference of vector_a and vector_b: [-3 -3 -3]\n",
      "Dot product of vector_a and vector_b: 32\n",
      "Cross product of vector_a and vector_b: [-3  6 -3]\n"
     ]
    }
   ],
   "source": [
    "import numpy as np\n",
    "\n",
    "vector_a = np.array([1, 2, 3])\n",
    "vector_b = np.array([4, 5, 6])\n",
    "matrix_a = np.array([[1, 2, 3], [4, 5, 6], [7, 8, 9]])\n",
    "vector_sum = vector_a + vector_b\n",
    "vector_difference = vector_a - vector_b\n",
    "dot_product = np.dot(vector_a, vector_b)\n",
    "cross_product = np.cross(vector_a, vector_b)\n",
    "\n",
    "print(f\"Sum of vector_a and vector_b: {vector_sum}\")\n",
    "print(f\"Difference of vector_a and vector_b: {vector_difference}\")\n",
    "print(f\"Dot product of vector_a and vector_b: {dot_product}\")\n",
    "print(f\"Cross product of vector_a and vector_b: {cross_product}\")\n"
   ]
  },
  {
   "cell_type": "code",
   "execution_count": 24,
   "id": "6f38587e",
   "metadata": {},
   "outputs": [
    {
     "name": "stdout",
     "output_type": "stream",
     "text": [
      "vector_a_manual: [1, 2, 3]\n",
      "vector_b_manual: [4, 5, 6]\n",
      "matrix_a_manual: [[1, 2, 3], [4, 5, 6], [7, 8, 9]]\n"
     ]
    },
    {
     "ename": "TypeError",
     "evalue": "object of type 'generator' has no len()",
     "output_type": "error",
     "traceback": [
      "\u001b[1;31m---------------------------------------------------------------------------\u001b[0m",
      "\u001b[1;31mTypeError\u001b[0m                                 Traceback (most recent call last)",
      "Cell \u001b[1;32mIn[24], line 34\u001b[0m\n\u001b[0;32m     32\u001b[0m vector_sum_manual \u001b[38;5;241m=\u001b[39m vector_add(vector_a_manual, vector_b_manual)\n\u001b[0;32m     33\u001b[0m vector_difference_manual \u001b[38;5;241m=\u001b[39m vector_subtract(vector_a_manual, vector_b_manual)\n\u001b[1;32m---> 34\u001b[0m dot_product_manual_result \u001b[38;5;241m=\u001b[39m \u001b[43mdot_product_manual\u001b[49m\u001b[43m(\u001b[49m\u001b[43mvector_a_manual\u001b[49m\u001b[43m,\u001b[49m\u001b[43m \u001b[49m\u001b[43mvector_b_manual\u001b[49m\u001b[43m)\u001b[49m\n\u001b[0;32m     35\u001b[0m cross_product_manual_result \u001b[38;5;241m=\u001b[39m cross_product_manual(vector_a_manual, vector_b_manual)\n\u001b[0;32m     37\u001b[0m \u001b[38;5;66;03m# Print the results\u001b[39;00m\n",
      "Cell \u001b[1;32mIn[24], line 21\u001b[0m, in \u001b[0;36mdot_product_manual\u001b[1;34m(vec1, vec2)\u001b[0m\n\u001b[0;32m     19\u001b[0m \u001b[38;5;28;01mif\u001b[39;00m \u001b[38;5;28mlen\u001b[39m(vec1) \u001b[38;5;241m!=\u001b[39m \u001b[38;5;28mlen\u001b[39m(vec2):\n\u001b[0;32m     20\u001b[0m     \u001b[38;5;28;01mraise\u001b[39;00m \u001b[38;5;167;01mValueError\u001b[39;00m(\u001b[38;5;124m\"\u001b[39m\u001b[38;5;124mVectors must have the same length for dot product.\u001b[39m\u001b[38;5;124m\"\u001b[39m)\n\u001b[1;32m---> 21\u001b[0m \u001b[38;5;28;01mreturn\u001b[39;00m \u001b[38;5;28;43msum\u001b[39;49m\u001b[43m(\u001b[49m\u001b[43mv1\u001b[49m\u001b[43m \u001b[49m\u001b[38;5;241;43m*\u001b[39;49m\u001b[43m \u001b[49m\u001b[43mv2\u001b[49m\u001b[43m \u001b[49m\u001b[38;5;28;43;01mfor\u001b[39;49;00m\u001b[43m \u001b[49m\u001b[43mv1\u001b[49m\u001b[43m,\u001b[49m\u001b[43m \u001b[49m\u001b[43mv2\u001b[49m\u001b[43m \u001b[49m\u001b[38;5;129;43;01min\u001b[39;49;00m\u001b[43m \u001b[49m\u001b[38;5;28;43mzip\u001b[39;49m\u001b[43m(\u001b[49m\u001b[43mvec1\u001b[49m\u001b[43m,\u001b[49m\u001b[43m \u001b[49m\u001b[43mvec2\u001b[49m\u001b[43m)\u001b[49m\u001b[43m)\u001b[49m\n",
      "Cell \u001b[1;32mIn[8], line 6\u001b[0m, in \u001b[0;36msum\u001b[1;34m(list_1)\u001b[0m\n\u001b[0;32m      4\u001b[0m \u001b[38;5;28;01mdef\u001b[39;00m\u001b[38;5;250m \u001b[39m\u001b[38;5;21msum\u001b[39m (list_1):\n\u001b[0;32m      5\u001b[0m     sum1 \u001b[38;5;241m=\u001b[39m \u001b[38;5;241m0\u001b[39m\n\u001b[1;32m----> 6\u001b[0m     \u001b[38;5;28;01mfor\u001b[39;00m i \u001b[38;5;129;01min\u001b[39;00m \u001b[38;5;28mrange\u001b[39m(\u001b[38;5;28;43mlen\u001b[39;49m\u001b[43m(\u001b[49m\u001b[43mlist_1\u001b[49m\u001b[43m)\u001b[49m):\n\u001b[0;32m      7\u001b[0m         sum1 \u001b[38;5;241m=\u001b[39m sum1 \u001b[38;5;241m+\u001b[39m list_1[i]\n\u001b[0;32m      8\u001b[0m     \u001b[38;5;28;01mreturn\u001b[39;00m (sum1)\n",
      "\u001b[1;31mTypeError\u001b[0m: object of type 'generator' has no len()"
     ]
    }
   ],
   "source": [
    "\n",
    "vector_a_manual = [1, 2, 3]\n",
    "vector_b_manual = [4, 5, 6]\n",
    "matrix_a_manual = [[1, 2, 3], [4, 5, 6], [7, 8, 9]]\n",
    "\n",
    "print(f\"vector_a_manual: {vector_a_manual}\")\n",
    "print(f\"vector_b_manual: {vector_b_manual}\")\n",
    "print(f\"matrix_a_manual: {matrix_a_manual}\")\n",
    "def vector_add(vec1, vec2):\n",
    "    if len(vec1) != len(vec2):\n",
    "        raise ValueError(\"Vectors must have the same length for addition.\")\n",
    "    return [v1 + v2 for v1, v2 in zip(vec1, vec2)]\n",
    "\n",
    "def vector_subtract(vec1, vec2):\n",
    "    if len(vec1) != len(vec2):\n",
    "        raise ValueError(\"Vectors must have the same length for subtraction.\")\n",
    "    return [v1 - v2 for v1, v2 in zip(vec1, vec2)]\n",
    "\n",
    "def dot_product_manual(vec1, vec2):\n",
    "    if len(vec1) != len(vec2):\n",
    "        raise ValueError(\"Vectors must have the same length for dot product.\")\n",
    "    return sum(v1 * v2 for v1, v2 in zip(vec1, vec2))\n",
    "\n",
    "def cross_product_manual(vec1, vec2):\n",
    "    if len(vec1) != 3 or len(vec2) != 3:\n",
    "        raise ValueError(\"Cross product is only defined for 3D vectors.\")\n",
    "    x = vec1[1] * vec2[2] - vec1[2] * vec2[1]\n",
    "    y = vec1[2] * vec2[0] - vec1[0] * vec2[2]\n",
    "    z = vec1[0] * vec2[1] - vec1[1] * vec2[0]\n",
    "    return [x, y, z]\n",
    "\n",
    "# Call the manual functions\n",
    "vector_sum_manual = vector_add(vector_a_manual, vector_b_manual)\n",
    "vector_difference_manual = vector_subtract(vector_a_manual, vector_b_manual)\n",
    "dot_product_manual_result = dot_product_manual(vector_a_manual, vector_b_manual)\n",
    "cross_product_manual_result = cross_product_manual(vector_a_manual, vector_b_manual)\n",
    "\n",
    "# Print the results\n",
    "print(f\"Manual sum of vector_a_manual and vector_b_manual: {vector_sum_manual}\")\n",
    "print(f\"Manual difference of vector_a_manual and vector_b_manual: {vector_difference_manual}\")\n",
    "print(f\"Manual dot product of vector_a_manual and vector_b_manual: {dot_product_manual_result}\")\n",
    "print(f\"Manual cross product of vector_a_manual and vector_b_manual: {cross_product_manual_result}\")\n",
    "\n",
    "matrix_product = np.dot(matrix_a, matrix_a)\n",
    "matrix_determinant = np.linalg.det(matrix_a)\n",
    "\n",
    "print(f\"Matrix product of matrix_a with itself:\\n{matrix_product}\")\n",
    "print(f\"Determinant of matrix_a: {matrix_determinant}\")\n",
    "def matrix_multiply_manual(matrix1, matrix2):\n",
    "    rows1 = len(matrix1)\n",
    "    cols1 = len(matrix1[0])\n",
    "    rows2 = len(matrix2)\n",
    "    cols2 = len(matrix2[0])\n",
    "\n",
    "    if cols1 != rows2:\n",
    "        raise ValueError(\"Number of columns in the first matrix must equal the number of rows in the second matrix for multiplication.\")\n",
    "\n",
    "    result_matrix = [[0 for _ in range(cols2)] for _ in range(rows1)]\n",
    "\n",
    "    for i in range(rows1):\n",
    "        for j in range(cols2):\n",
    "            for k in range(cols1):\n",
    "                result_matrix[i][j] += matrix1[i][k] * matrix2[k][j]\n",
    "\n",
    "    return result_matrix\n",
    "\n",
    "def matrix_determinant_manual(matrix):\n",
    "    n = len(matrix)\n",
    "    if any(len(row) != n for row in matrix):\n",
    "        raise ValueError(\"Matrix must be square to calculate the determinant.\")\n",
    "\n",
    "    if n == 1:\n",
    "        return matrix[0][0]\n",
    "    elif n == 2:\n",
    "        return matrix[0][0] * matrix[1][1] - matrix[0][1] * matrix[1][0]\n",
    "    else:\n",
    "        determinant = 0\n",
    "        for j in range(n):\n",
    "            cofactor = [row[:j] + row[j+1:] for row in matrix[1:]]\n",
    "            determinant += ((-1)**j) * matrix[0][j] * matrix_determinant_manual(cofactor)\n",
    "        return determinant\n",
    "\n",
    "# Call the manual functions\n",
    "matrix_product_manual = matrix_multiply_manual(matrix_a_manual, matrix_a_manual)\n",
    "matrix_determinant_manual_result = matrix_determinant_manual(matrix_a_manual)\n",
    "\n",
    "# Print the results\n",
    "print(f\"Manual matrix product of matrix_a_manual with itself:\\n{matrix_product_manual}\")\n",
    "print(f\"Manual determinant of matrix_a_manual: {matrix_determinant_manual_result}\")\n",
    "print(\"--- Vector Operations Comparison ---\")\n",
    "\n",
    "# Vector Addition\n",
    "print(f\"NumPy Vector Sum: {vector_sum}\")\n",
    "print(f\"Manual Vector Sum: {vector_sum_manual}\")\n",
    "print(f\"Vector Sum Match: {vector_sum.tolist() == vector_sum_manual}\") # Convert NumPy array to list for comparison\n",
    "\n",
    "print(\"\\n---\")\n",
    "\n",
    "# Vector Subtraction\n",
    "print(f\"NumPy Vector Difference: {vector_difference}\")\n",
    "print(f\"Manual Vector Difference: {vector_difference_manual}\")\n",
    "print(f\"Vector Difference Match: {vector_difference.tolist() == vector_difference_manual}\") # Convert NumPy array to list for comparison\n",
    "\n",
    "print(\"\\n---\")\n",
    "\n",
    "# Dot Product\n",
    "print(f\"NumPy Dot Product: {dot_product}\")\n",
    "print(f\"Manual Dot Product: {dot_product_manual_result}\")\n",
    "print(f\"Dot Product Match: {dot_product == dot_product_manual_result}\")\n",
    "\n",
    "print(\"\\n---\")\n",
    "\n",
    "# Cross Product\n",
    "print(f\"NumPy Cross Product: {cross_product}\")\n",
    "print(f\"Manual Cross Product: {cross_product_manual_result}\")\n",
    "print(f\"Cross Product Match: {cross_product.tolist() == cross_product_manual_result}\") # Convert NumPy array to list for comparison\n",
    "\n",
    "print(\"\\n--- Matrix Operations Comparison ---\")\n",
    "\n",
    "# Matrix Multiplication\n",
    "print(f\"NumPy Matrix Product:\\n{matrix_product}\")\n",
    "print(f\"Manual Matrix Product:\\n{matrix_product_manual}\")\n",
    "print(f\"Matrix Product Match: {matrix_product.tolist() == matrix_product_manual}\") # Convert NumPy array to list for comparison\n",
    "\n",
    "print(\"\\n---\")\n",
    "\n",
    "# Matrix Determinant\n",
    "print(f\"NumPy Matrix Determinant: {matrix_determinant}\")\n",
    "print(f\"Manual Matrix Determinant: {matrix_determinant_manual_result}\")\n",
    "print(f\"Matrix Determinant Match: {matrix_determinant == matrix_determinant_manual_result}\") # Direct comparison for floating point"
   ]
  },
  {
   "cell_type": "code",
   "execution_count": 25,
   "id": "98c50afc",
   "metadata": {},
   "outputs": [
    {
     "data": {
      "image/png": "[encoded data removed]",
      "text/plain": [
       "<Figure size 1000x500 with 1 Axes>"
      ]
     },
     "metadata": {},
     "output_type": "display_data"
    },
    {
     "name": "stdout",
     "output_type": "stream",
     "text": [
      "      2\n",
      "2.44 x + 7.164 x + 0.2244\n"
     ]
    }
   ],
   "source": [
    "import numpy as np\n",
    "import matplotlib.pyplot as plt\n",
    "\n",
    "# Generate random data points\n",
    "x = np.linspace(0, 10, 20)                    # 20 points between 0 and 10\n",
    "y = 3 * x**2 + 2 * x + 5 + np.random.randn(20) * 10   # Quadratic + noise\n",
    "\n",
    "# Fit a polynomial curve (degree 2 here)\n",
    "coeffs = np.polyfit(x, y, 2)\n",
    "poly_eqn = np.poly1d(coeffs)\n",
    "y_fit = poly_eqn(x)\n",
    "\n",
    "# Plot random points and fitted curve\n",
    "plt.figure(figsize=(10, 5))\n",
    "plt.scatter(x, y, color='red', label='Random Data')\n",
    "plt.plot(x, y_fit, color='blue', label='Fitted Curve')\n",
    "plt.title(\"Random Data Points with Fitted Curve\")\n",
    "plt.xlabel(\"X\")\n",
    "plt.ylabel(\"Y\")\n",
    "plt.legend()\n",
    "plt.grid(True)\n",
    "plt.show()\n",
    "\n",
    "print(poly_eqn)\n"
   ]
  },
  {
   "cell_type": "code",
   "execution_count": 26,
   "id": "83487de1",
   "metadata": {},
   "outputs": [
    {
     "data": {
      "image/png": "[encoded data removed]",
      "text/plain": [
       "<Figure size 1000x500 with 1 Axes>"
      ]
     },
     "metadata": {},
     "output_type": "display_data"
    },
    {
     "name": "stdout",
     "output_type": "stream",
     "text": [
      "Fall of Wicket:  [ 1  2  3  4  5  6  7  8  9 10]\n",
      "India:    [63  8 77 45 50 86 89 46 32 76]\n",
      "England:  [ 64  79  58  89  73  68  33   4 111 112]\n"
     ]
    }
   ],
   "source": [
    "# Generate random runs scored between wickets (10 wickets per side)\n",
    "wickets = np.arange(1, 11)\n",
    "india_runs = np.random.randint(0, 120, size=10)\n",
    "england_runs = np.random.randint(0, 120, size=10)\n",
    "\n",
    "# Plot line graph\n",
    "plt.figure(figsize=(10, 5))\n",
    "plt.plot(wickets, india_runs, marker='o', label='India')\n",
    "plt.plot(wickets, england_runs, marker='s', label='England')\n",
    "plt.title(\"Runs Scored Between Wickets (ODI Match)\")\n",
    "plt.xlabel(\"Fall of Wicket\")\n",
    "plt.ylabel(\"Runs Scored\")\n",
    "plt.xticks(wickets)\n",
    "plt.legend()\n",
    "plt.grid(True)\n",
    "plt.show()\n",
    "\n",
    "# Print the random data like the example table\n",
    "print(\"Fall of Wicket: \", wickets)\n",
    "print(\"India:   \", india_runs)\n",
    "print(\"England: \", england_runs)\n"
   ]
  },
  {
   "cell_type": "code",
   "execution_count": 28,
   "id": "a9f11431",
   "metadata": {},
   "outputs": [
    {
     "name": "stdout",
     "output_type": "stream",
     "text": [
      "Generated Random Variables (first 10): [42 80 37 41 20 90 24 64 71 91]\n",
      "Mean: 51.3\n",
      "Median: 51.0\n",
      "Mode: 51\n",
      "51.3\n",
      "51.0\n",
      "{np.int32(0), np.int32(3), np.int32(4), np.int32(5), np.int32(7), np.int32(8), np.int32(9), np.int32(11), np.int32(14), np.int32(17), np.int32(18), np.int32(19), np.int32(20), np.int32(23), np.int32(24), np.int32(28), np.int32(30), np.int32(31), np.int32(33), np.int32(34), np.int32(35), np.int32(37), np.int32(39), np.int32(41), np.int32(42), np.int32(43), np.int32(44), np.int32(45), np.int32(46), np.int32(48), np.int32(49), np.int32(50), np.int32(51), np.int32(53), np.int32(55), np.int32(56), np.int32(57), np.int32(58), np.int32(61), np.int32(62), np.int32(64), np.int32(67), np.int32(68), np.int32(69), np.int32(70), np.int32(71), np.int32(72), np.int32(73), np.int32(74), np.int32(75), np.int32(76), np.int32(80), np.int32(81), np.int32(83), np.int32(84), np.int32(86), np.int32(88), np.int32(89), np.int32(90), np.int32(91), np.int32(92), np.int32(93), np.int32(94), np.int32(95), np.int32(96), np.int32(97), np.int32(98)}\n",
      "{np.int32(0): 1, np.int32(3): 3, np.int32(4): 1, np.int32(5): 3, np.int32(7): 2, np.int32(8): 1, np.int32(9): 2, np.int32(11): 2, np.int32(14): 1, np.int32(17): 2, np.int32(18): 1, np.int32(19): 2, np.int32(20): 1, np.int32(23): 1, np.int32(24): 1, np.int32(28): 1, np.int32(30): 1, np.int32(31): 2, np.int32(33): 2, np.int32(34): 1, np.int32(35): 2, np.int32(37): 1, np.int32(39): 1, np.int32(41): 1, np.int32(42): 1, np.int32(43): 1, np.int32(44): 1, np.int32(45): 2, np.int32(46): 3, np.int32(48): 3, np.int32(49): 1, np.int32(50): 1, np.int32(51): 4, np.int32(53): 1, np.int32(55): 1, np.int32(56): 1, np.int32(57): 1, np.int32(58): 1, np.int32(61): 1, np.int32(62): 3, np.int32(64): 2, np.int32(67): 1, np.int32(68): 1, np.int32(69): 1, np.int32(70): 1, np.int32(71): 1, np.int32(72): 1, np.int32(73): 1, np.int32(74): 1, np.int32(75): 2, np.int32(76): 2, np.int32(80): 2, np.int32(81): 1, np.int32(83): 1, np.int32(84): 2, np.int32(86): 3, np.int32(88): 1, np.int32(89): 2, np.int32(90): 1, np.int32(91): 2, np.int32(92): 2, np.int32(93): 2, np.int32(94): 1, np.int32(95): 1, np.int32(96): 1, np.int32(97): 1, np.int32(98): 1}\n",
      "51\n"
     ]
    }
   ],
   "source": [
    "import numpy as np\n",
    "import scipy.stats as stats\n",
    "\n",
    "# Generate 100 random integers between 0 and 100\n",
    "random_variables = np.random.randint(0, 101, 100)\n",
    "\n",
    "# Calculate the mean, median, and mode\n",
    "mean_value = np.mean(random_variables)\n",
    "median_value = np.median(random_variables)\n",
    "mode_result = stats.mode(random_variables)\n",
    "mode_value = mode_result.mode\n",
    "\n",
    "# Print the results\n",
    "print(\"Generated Random Variables (first 10):\", random_variables[:10])\n",
    "print(\"Mean:\", mean_value)\n",
    "print(\"Median:\", median_value)\n",
    "print(\"Mode:\", mode_value)\n",
    "mean = sum(random_variables)/len(random_variables)\n",
    "print(mean)\n",
    "\n",
    "random_variables.sort()\n",
    "\n",
    "median = (random_variables[50]+random_variables[49])/2\n",
    "print(median)\n",
    "\n",
    "set_v = set(random_variables)\n",
    "random_lst = list(random_variables)\n",
    "print(set_v)\n",
    "\n",
    "dict_c = {}\n",
    "for i in set_v:\n",
    "  dict_c[i] = random_lst.count(i)\n",
    "print(dict_c)\n",
    "\n",
    "mode = max(dict_c, key=dict_c.get)\n",
    "print(mode)\n"
   ]
  },
  {
   "cell_type": "code",
   "execution_count": 29,
   "id": "a883431a",
   "metadata": {},
   "outputs": [
    {
     "name": "stdout",
     "output_type": "stream",
     "text": [
      "students.csv created successfully.\n"
     ]
    }
   ],
   "source": [
    "\n",
    "import pandas as pd\n",
    "\n",
    "# Create a dictionary with sample data\n",
    "data = {'Name': ['Alice', 'Bob', 'Charlie', 'David', 'Eve', 'Frank', 'Grace'],\n",
    "        'Age': [20, 22, 21, 23, 20, 22, 21],\n",
    "        'Gender': ['Female', 'Male', 'Male', 'Male', 'Female', 'Male', 'Female'],\n",
    "        'Grade': [85, 78, 92, 76, 88, 81, 95],\n",
    "        'City': ['New York', 'Los Angeles', 'Chicago', 'Houston', 'Phoenix', 'Philadelphia', 'San Antonio']}\n",
    "\n",
    "# Create a pandas DataFrame\n",
    "df = pd.DataFrame(data)\n",
    "\n",
    "# Save the DataFrame to a CSV file without the index\n",
    "df.to_csv('students.csv', index=False)\n",
    "\n",
    "print(\"students.csv created successfully.\")\n"
   ]
  },
  {
   "cell_type": "code",
   "execution_count": 30,
   "id": "6ea2720b",
   "metadata": {},
   "outputs": [
    {
     "name": "stdout",
     "output_type": "stream",
     "text": [
      "      Name  Age  Gender  Grade          City\n",
      "0    Alice   20  Female     85      New York\n",
      "1      Bob   22    Male     78   Los Angeles\n",
      "2  Charlie   21    Male     92       Chicago\n",
      "3    David   23    Male     76       Houston\n",
      "4      Eve   20  Female     88       Phoenix\n",
      "5    Frank   22    Male     81  Philadelphia\n",
      "6    Grace   21  Female     95   San Antonio\n"
     ]
    },
    {
     "data": {
      "text/html": [
       "<div>\n",
       "<style scoped>\n",
       "    .dataframe tbody tr th:only-of-type {\n",
       "        vertical-align: middle;\n",
       "    }\n",
       "\n",
       "    .dataframe tbody tr th {\n",
       "        vertical-align: top;\n",
       "    }\n",
       "\n",
       "    .dataframe thead th {\n",
       "        text-align: right;\n",
       "    }\n",
       "</style>\n",
       "<table border=\"1\" class=\"dataframe\">\n",
       "  <thead>\n",
       "    <tr style=\"text-align: right;\">\n",
       "      <th></th>\n",
       "      <th>Name</th>\n",
       "      <th>Age</th>\n",
       "      <th>Gender</th>\n",
       "      <th>Grade</th>\n",
       "      <th>City</th>\n",
       "    </tr>\n",
       "  </thead>\n",
       "  <tbody>\n",
       "    <tr>\n",
       "      <th>0</th>\n",
       "      <td>Alice</td>\n",
       "      <td>20</td>\n",
       "      <td>Female</td>\n",
       "      <td>85</td>\n",
       "      <td>New York</td>\n",
       "    </tr>\n",
       "    <tr>\n",
       "      <th>1</th>\n",
       "      <td>Bob</td>\n",
       "      <td>22</td>\n",
       "      <td>Male</td>\n",
       "      <td>78</td>\n",
       "      <td>Los Angeles</td>\n",
       "    </tr>\n",
       "    <tr>\n",
       "      <th>2</th>\n",
       "      <td>Charlie</td>\n",
       "      <td>21</td>\n",
       "      <td>Male</td>\n",
       "      <td>92</td>\n",
       "      <td>Chicago</td>\n",
       "    </tr>\n",
       "  </tbody>\n",
       "</table>\n",
       "</div>"
      ],
      "text/plain": [
       "      Name  Age  Gender  Grade         City\n",
       "0    Alice   20  Female     85     New York\n",
       "1      Bob   22    Male     78  Los Angeles\n",
       "2  Charlie   21    Male     92      Chicago"
      ]
     },
     "metadata": {},
     "output_type": "display_data"
    },
    {
     "name": "stdout",
     "output_type": "stream",
     "text": [
      "Average Age: 21.29\n",
      "\n",
      "Gender Counts:\n",
      "Gender\n",
      "Male      4\n",
      "Female    3\n",
      "Name: count, dtype: int64\n",
      "\n",
      "Filtered and Sorted DataFrame (Grade >= 80, sorted by Age):\n"
     ]
    },
    {
     "data": {
      "text/html": [
       "<div>\n",
       "<style scoped>\n",
       "    .dataframe tbody tr th:only-of-type {\n",
       "        vertical-align: middle;\n",
       "    }\n",
       "\n",
       "    .dataframe tbody tr th {\n",
       "        vertical-align: top;\n",
       "    }\n",
       "\n",
       "    .dataframe thead th {\n",
       "        text-align: right;\n",
       "    }\n",
       "</style>\n",
       "<table border=\"1\" class=\"dataframe\">\n",
       "  <thead>\n",
       "    <tr style=\"text-align: right;\">\n",
       "      <th></th>\n",
       "      <th>Name</th>\n",
       "      <th>Age</th>\n",
       "      <th>Gender</th>\n",
       "      <th>Grade</th>\n",
       "      <th>City</th>\n",
       "    </tr>\n",
       "  </thead>\n",
       "  <tbody>\n",
       "    <tr>\n",
       "      <th>0</th>\n",
       "      <td>Alice</td>\n",
       "      <td>20</td>\n",
       "      <td>Female</td>\n",
       "      <td>85</td>\n",
       "      <td>New York</td>\n",
       "    </tr>\n",
       "    <tr>\n",
       "      <th>4</th>\n",
       "      <td>Eve</td>\n",
       "      <td>20</td>\n",
       "      <td>Female</td>\n",
       "      <td>88</td>\n",
       "      <td>Phoenix</td>\n",
       "    </tr>\n",
       "    <tr>\n",
       "      <th>2</th>\n",
       "      <td>Charlie</td>\n",
       "      <td>21</td>\n",
       "      <td>Male</td>\n",
       "      <td>92</td>\n",
       "      <td>Chicago</td>\n",
       "    </tr>\n",
       "    <tr>\n",
       "      <th>6</th>\n",
       "      <td>Grace</td>\n",
       "      <td>21</td>\n",
       "      <td>Female</td>\n",
       "      <td>95</td>\n",
       "      <td>San Antonio</td>\n",
       "    </tr>\n",
       "    <tr>\n",
       "      <th>5</th>\n",
       "      <td>Frank</td>\n",
       "      <td>22</td>\n",
       "      <td>Male</td>\n",
       "      <td>81</td>\n",
       "      <td>Philadelphia</td>\n",
       "    </tr>\n",
       "  </tbody>\n",
       "</table>\n",
       "</div>"
      ],
      "text/plain": [
       "      Name  Age  Gender  Grade          City\n",
       "0    Alice   20  Female     85      New York\n",
       "4      Eve   20  Female     88       Phoenix\n",
       "2  Charlie   21    Male     92       Chicago\n",
       "6    Grace   21  Female     95   San Antonio\n",
       "5    Frank   22    Male     81  Philadelphia"
      ]
     },
     "metadata": {},
     "output_type": "display_data"
    },
    {
     "data": {
      "text/plain": [
       "0    20\n",
       "4    20\n",
       "6    21\n",
       "2    21\n",
       "5    22\n",
       "1    22\n",
       "3    23\n",
       "Name: Age, dtype: int64"
      ]
     },
     "execution_count": 30,
     "metadata": {},
     "output_type": "execute_result"
    }
   ],
   "source": [
    "\n",
    "import pandas as pd\n",
    "\n",
    "# Load the \"students.csv\" file into a pandas DataFrame\n",
    "df = pd.read_csv('students.csv')\n",
    "print(df)\n",
    "# Display the first 3 rows of the DataFrame\n",
    "display(df.head(3))\n",
    "# Calculate the average age\n",
    "average_age = df['Age'].mean()\n",
    "print(f\"Average Age: {average_age:.2f}\")\n",
    "\n",
    "# Count male and female students\n",
    "gender_counts = df['Gender'].value_counts()\n",
    "print(\"\\nGender Counts:\")\n",
    "print(gender_counts)\n",
    "\n",
    "# Filter for grades >= 80\n",
    "filtered_df = df[df['Grade'] >= 80].copy()\n",
    "\n",
    "# Sort the filtered DataFrame by Age\n",
    "sorted_filtered_df = filtered_df.sort_values(by='Age')\n",
    "\n",
    "# Display the sorted, filtered DataFrame\n",
    "print(\"\\nFiltered and Sorted DataFrame (Grade >= 80, sorted by Age):\")\n",
    "display(sorted_filtered_df)\n",
    "df.groupby(\"Gender\")[\"Gender\"].count()\n",
    "df[df[\"Grade\"]>=80][\"Name\"]\n",
    "df[\"Age\"].sort_values()"
   ]
  },
  {
   "cell_type": "code",
   "execution_count": 31,
   "id": "64ba73c1",
   "metadata": {},
   "outputs": [
    {
     "name": "stdout",
     "output_type": "stream",
     "text": [
      "An error occurred: name 'Image' is not defined\n"
     ]
    },
    {
     "ename": "NameError",
     "evalue": "name 'image' is not defined",
     "output_type": "error",
     "traceback": [
      "\u001b[1;31m---------------------------------------------------------------------------\u001b[0m",
      "\u001b[1;31mNameError\u001b[0m                                 Traceback (most recent call last)",
      "Cell \u001b[1;32mIn[31], line 12\u001b[0m\n\u001b[0;32m      9\u001b[0m     \u001b[38;5;28mprint\u001b[39m(\u001b[38;5;124mf\u001b[39m\u001b[38;5;124m\"\u001b[39m\u001b[38;5;124mAn error occurred: \u001b[39m\u001b[38;5;132;01m{\u001b[39;00me\u001b[38;5;132;01m}\u001b[39;00m\u001b[38;5;124m\"\u001b[39m)\n\u001b[0;32m     11\u001b[0m plt\u001b[38;5;241m.\u001b[39mfigure(figsize\u001b[38;5;241m=\u001b[39m(\u001b[38;5;241m8\u001b[39m, \u001b[38;5;241m8\u001b[39m))\n\u001b[1;32m---> 12\u001b[0m plt\u001b[38;5;241m.\u001b[39mimshow(\u001b[43mimage\u001b[49m)\n\u001b[0;32m     13\u001b[0m plt\u001b[38;5;241m.\u001b[39mtitle(\u001b[38;5;124m\"\u001b[39m\u001b[38;5;124mSmoothed Image\u001b[39m\u001b[38;5;124m\"\u001b[39m)\n\u001b[0;32m     14\u001b[0m plt\u001b[38;5;241m.\u001b[39maxis(\u001b[38;5;124m'\u001b[39m\u001b[38;5;124moff\u001b[39m\u001b[38;5;124m'\u001b[39m)\n",
      "\u001b[1;31mNameError\u001b[0m: name 'image' is not defined"
     ]
    },
    {
     "data": {
      "text/plain": [
       "<Figure size 800x800 with 0 Axes>"
      ]
     },
     "metadata": {},
     "output_type": "display_data"
    }
   ],
   "source": [
    "# Replace 'image.png' with the actual path to your image file if different\n",
    "image_path = 'image.jpg'\n",
    "try:\n",
    "    image = Image.open(image_path)\n",
    "    print(\"Image loaded successfully.\")\n",
    "except FileNotFoundError:\n",
    "    print(f\"Error: Image file not found at {image_path}\")\n",
    "except Exception as e:\n",
    "    print(f\"An error occurred: {e}\")\n",
    "\n",
    "plt.figure(figsize=(8, 8))\n",
    "plt.imshow(image)\n",
    "plt.title(\"Smoothed Image\")\n",
    "plt.axis('off')\n",
    "plt.show()\n",
    "import numpy as np\n",
    "\n",
    "# Convert the image object to a NumPy array\n",
    "image_matrix = np.array(image)\n",
    "\n",
    "# Print the NumPy array\n",
    "print(\"Matrix representation of the image (first few rows and columns):\")\n",
    "print(image_matrix)\n",
    "import matplotlib.pyplot as plt\n",
    "\n",
    "# Flatten the image matrix if it's a color image\n",
    "if len(image_matrix.shape) > 2:\n",
    "    flattened_image = image_matrix.flatten()\n",
    "else:\n",
    "    flattened_image = image_matrix.copy()\n",
    "\n",
    "# Plot the histogram\n",
    "plt.figure(figsize=(8, 6))\n",
    "plt.hist(flattened_image, bins=256, range=(0, 256), density=False, color='gray')\n",
    "plt.title(\"Image Histogram\")\n",
    "plt.xlabel(\"Pixel Intensity\")\n",
    "plt.ylabel(\"Frequency\")\n",
    "plt.show()\n",
    "import cv2\n",
    "import numpy as np\n",
    "\n",
    "# Convert the PIL image to a format compatible with OpenCV (BGR)\n",
    "# PIL uses RGB, OpenCV uses BGR\n",
    "image_cv2 = cv2.cvtColor(np.array(image), cv2.COLOR_RGB2BGR)\n",
    "\n",
    "# Apply Gaussian blur filter\n",
    "# Kernel size should be odd numbers\n",
    "kernel_size = (5, 5)\n",
    "smoothed_image = cv2.GaussianBlur(image_cv2, kernel_size, 0)\n",
    "\n",
    "print(\"Smoothing filter applied successfully.\")\n",
    "# Convert the smoothed image from BGR to RGB\n",
    "smoothed_image_rgb = cv2.cvtColor(smoothed_image, cv2.COLOR_BGR2RGB)\n",
    "\n",
    "# Display the smoothed image\n",
    "plt.figure(figsize=(8, 8))\n",
    "plt.imshow(smoothed_image_rgb)\n",
    "plt.title(\"Smoothed Image\")\n",
    "plt.axis('off')\n",
    "plt.show()"
   ]
  }
 ],
 "metadata": {
  "kernelspec": {
   "display_name": ".venv",
   "language": "python",
   "name": "python3"
  },
  "language_info": {
   "codemirror_mode": {
    "name": "ipython",
    "version": 3
   },
   "file_extension": ".py",
   "mimetype": "text/x-python",
   "name": "python",
   "nbconvert_exporter": "python",
   "pygments_lexer": "ipython3",
   "version": "3.12.1"
  }
 },
 "nbformat": 4,
 "nbformat_minor": 5
}

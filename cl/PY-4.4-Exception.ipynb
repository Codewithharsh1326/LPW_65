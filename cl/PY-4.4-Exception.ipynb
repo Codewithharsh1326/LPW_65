{
 "cells": [
  {
   "cell_type": "markdown",
   "id": "a9507198",
   "metadata": {},
   "source": [
    "<h1>\n",
    "    <center>\n",
    "Python Exceptions and Errors\n",
    "        </center>\n",
    "<h1>"
   ]
  },
  {
   "cell_type": "markdown",
   "id": "33ab1353",
   "metadata": {},
   "source": [
    "<img src=\"python_exception_handling.webp\">"
   ]
  },
  {
   "cell_type": "markdown",
   "id": "e19a0357",
   "metadata": {},
   "source": [
    "<h1>\n",
    "In Python, an exception is an object derives from the BaseException class that contains information about an error event that occurred within a method. Exception object contains:\n",
    "<h2>\n",
    "<ol>\n",
    "    <li>Error type (exception name)</li>\n",
    "<li>The state of the program when the error occurred </li>\n",
    "<li>An error message describes the error event.</li>\n",
    "    </ol>\n",
    "    <h2>\n",
    "<h1>"
   ]
  },
  {
   "cell_type": "markdown",
   "id": "520359e2",
   "metadata": {},
   "source": [
    "# For example, bellow are the few standard exceptions\n",
    "\n",
    "# FileNotFoundException\n",
    "# RuntimeError\n",
    "# NameError\n",
    "# TypeError"
   ]
  },
  {
   "cell_type": "markdown",
   "id": "59022df4",
   "metadata": {},
   "source": [
    "<h1><center>The try and except Block to Handling</center>"
   ]
  },
  {
   "cell_type": "code",
   "execution_count": 1,
   "id": "a5209e87",
   "metadata": {},
   "outputs": [
    {
     "ename": "ZeroDivisionError",
     "evalue": "division by zero",
     "output_type": "error",
     "traceback": [
      "\u001b[1;31m---------------------------------------------------------------------------\u001b[0m",
      "\u001b[1;31mZeroDivisionError\u001b[0m                         Traceback (most recent call last)",
      "Cell \u001b[1;32mIn[1], line 3\u001b[0m\n\u001b[0;32m      1\u001b[0m a \u001b[38;5;241m=\u001b[39m \u001b[38;5;241m10\u001b[39m\n\u001b[0;32m      2\u001b[0m b \u001b[38;5;241m=\u001b[39m \u001b[38;5;241m0\u001b[39m\n\u001b[1;32m----> 3\u001b[0m c \u001b[38;5;241m=\u001b[39m \u001b[43ma\u001b[49m\u001b[43m \u001b[49m\u001b[38;5;241;43m/\u001b[39;49m\u001b[43m \u001b[49m\u001b[43mb\u001b[49m\n\u001b[0;32m      4\u001b[0m \u001b[38;5;28mprint\u001b[39m(\u001b[38;5;124m\"\u001b[39m\u001b[38;5;124ma/b = \u001b[39m\u001b[38;5;132;01m%d\u001b[39;00m\u001b[38;5;124m\"\u001b[39m \u001b[38;5;241m%\u001b[39m c)\n\u001b[0;32m      5\u001b[0m \u001b[38;5;28mprint\u001b[39m(\u001b[38;5;124m\"\u001b[39m\u001b[38;5;124mAfter exception\u001b[39m\u001b[38;5;124m\"\u001b[39m)\n",
      "\u001b[1;31mZeroDivisionError\u001b[0m: division by zero"
     ]
    }
   ],
   "source": [
    "a = 10\n",
    "b = 0\n",
    "c = a / b\n",
    "print(\"a/b = %d\" % c)\n",
    "print(\"After exception\")"
   ]
  },
  {
   "cell_type": "code",
   "execution_count": 2,
   "id": "ba1ffd7c",
   "metadata": {},
   "outputs": [
    {
     "name": "stdout",
     "output_type": "stream",
     "text": [
      "Can't divide with zero. Provide different number\n"
     ]
    }
   ],
   "source": [
    "try:\n",
    "    a = 10\n",
    "    b = 0\n",
    "    c = a/b\n",
    "    print(\"The answer of a divide by b:\", c)\n",
    "except:\n",
    "    print(\"Can't divide with zero. Provide different number\")"
   ]
  },
  {
   "cell_type": "markdown",
   "id": "10dc4740",
   "metadata": {},
   "source": [
    "# Catching Specific Exceptions"
   ]
  },
  {
   "cell_type": "code",
   "execution_count": 4,
   "id": "dcb61a2c",
   "metadata": {},
   "outputs": [
    {
     "name": "stdout",
     "output_type": "stream",
     "text": [
      "Entered value is wrong\n"
     ]
    }
   ],
   "source": [
    "try:\n",
    "    a = int(input(\"Enter value of a:\"))\n",
    "    b = int(input(\"Enter value of b:\"))\n",
    "    c = a/b\n",
    "    print(\"The answer of a divide by b:\", c)\n",
    "except ValueError:\n",
    "    print(\"Entered value is wrong\")\n",
    "except ZeroDivisionError:\n",
    "    print(\"Can't divide by zero\")"
   ]
  },
  {
   "cell_type": "markdown",
   "id": "d25df85a",
   "metadata": {},
   "source": [
    "# Handle multiple exceptions with a single except clause"
   ]
  },
  {
   "cell_type": "code",
   "execution_count": 5,
   "id": "74bba235",
   "metadata": {},
   "outputs": [
    {
     "name": "stdout",
     "output_type": "stream",
     "text": [
      "Please enter a valid value\n"
     ]
    }
   ],
   "source": [
    "try:\n",
    "    a = int(input(\"Enter value of a:\"))\n",
    "    b = int(input(\"Enter value of b:\"))\n",
    "    c = a / b\n",
    "    print(\"The answer of a divide by b:\", c)\n",
    "except(ValueError, ZeroDivisionError):\n",
    "    print(\"Please enter a valid value\")"
   ]
  },
  {
   "cell_type": "markdown",
   "id": "e0f1cc38",
   "metadata": {},
   "source": [
    "# Using try with finally"
   ]
  },
  {
   "cell_type": "markdown",
   "id": "e24f7413",
   "metadata": {},
   "source": [
    "<img src=\"try_except_finally.webp\">"
   ]
  },
  {
   "cell_type": "code",
   "execution_count": 7,
   "id": "09772af4",
   "metadata": {},
   "outputs": [
    {
     "name": "stdout",
     "output_type": "stream",
     "text": [
      "The answer of a divide by b: 5.0\n",
      "Inside a finally block\n"
     ]
    }
   ],
   "source": [
    "try:\n",
    "    a = int(input(\"Enter value of a:\"))\n",
    "    b = int(input(\"Enter value of b:\"))\n",
    "    c = a / b\n",
    "    print(\"The answer of a divide by b:\", c)\n",
    "\n",
    "except ZeroDivisionError:\n",
    "    print(\"Can't divide with zero\")\n",
    "finally:\n",
    "    print(\"Inside a finally block\")"
   ]
  },
  {
   "cell_type": "markdown",
   "id": "6901994c",
   "metadata": {},
   "source": [
    "# Using try with else clause"
   ]
  },
  {
   "cell_type": "markdown",
   "id": "719ada07",
   "metadata": {},
   "source": [
    "<img src=\"try_else.webp\">"
   ]
  },
  {
   "cell_type": "code",
   "execution_count": null,
   "id": "afb1b29b",
   "metadata": {},
   "outputs": [],
   "source": [
    "Syntax\n",
    "\n",
    "try:    \n",
    "    # block of code     \n",
    "except Exception1:    \n",
    "    # block of code     \n",
    "else:    \n",
    "    # this code executes when exceptions not occured    "
   ]
  },
  {
   "cell_type": "code",
   "execution_count": null,
   "id": "fa7c807e",
   "metadata": {},
   "outputs": [],
   "source": [
    "try:\n",
    "    a = int(input(\"Enter value of a:\"))\n",
    "    b = int(input(\"Enter value of b:\"))\n",
    "    c = a / b\n",
    "    print(\"a/b = %d\" % c)\n",
    "\n",
    "except ZeroDivisionError:\n",
    "    print(\"Can't divide by zero\")\n",
    "else:\n",
    "    print(\"We are in else block \")"
   ]
  },
  {
   "cell_type": "code",
   "execution_count": null,
   "id": "56f8deaa",
   "metadata": {},
   "outputs": [],
   "source": [
    "try:\n",
    "    # risky code\n",
    "except:\n",
    "    # handle errors\n",
    "else:\n",
    "    # runs if no error\n",
    "finally:\n",
    "    # always runs\n"
   ]
  },
  {
   "cell_type": "markdown",
   "id": "6bcb1e02",
   "metadata": {},
   "source": [
    "# Raising an Exceptions"
   ]
  },
  {
   "cell_type": "markdown",
   "id": "0b21b96e",
   "metadata": {},
   "source": [
    "# In Python, the raise statement allows us to throw an exception.\n",
    "# This can be either an exception object or an Exception class that is derived from the Exception class.\n",
    "# We can raise exceptions in cases such as wrong data received or any validation failure."
   ]
  },
  {
   "cell_type": "markdown",
   "id": "42d22f50",
   "metadata": {},
   "source": [
    "# The syntax to use the raise statement is given below.\n",
    "\n",
    "# raise Exception_class, \\<value> "
   ]
  },
  {
   "cell_type": "code",
   "execution_count": 8,
   "id": "c0b17727",
   "metadata": {},
   "outputs": [
    {
     "name": "stdout",
     "output_type": "stream",
     "text": [
      "Case 1\n",
      "The Simple Interest is 384.0\n",
      "Case 2\n",
      "interest rate is out of range 800\n"
     ]
    }
   ],
   "source": [
    "def simple_interest(amount, year, rate):\n",
    "    try:\n",
    "        if rate > 100:\n",
    "            raise ValueError(rate)\n",
    "        interest = (amount * year * rate) / 100\n",
    "        print('The Simple Interest is', interest)\n",
    "        return interest\n",
    "    except ValueError:\n",
    "        print('interest rate is out of range', rate)\n",
    "\n",
    "print('Case 1')\n",
    "simple_interest(800, 6, 8)\n",
    "\n",
    "print('Case 2')\n",
    "simple_interest(800, 6, 800)"
   ]
  },
  {
   "cell_type": "markdown",
   "id": "dbfa5e8d",
   "metadata": {},
   "source": [
    "<img src=\"ex_diagram.png\">"
   ]
  },
  {
   "cell_type": "markdown",
   "id": "05b64e62",
   "metadata": {},
   "source": [
    "# Custom and User-defined Exceptions\n",
    "# The user can define custom exceptions by creating a new class. \n",
    "# This new exception class has to derive either directly or indirectly from the built-in class Exception."
   ]
  },
  {
   "cell_type": "code",
   "execution_count": 10,
   "id": "705e58fe",
   "metadata": {},
   "outputs": [
    {
     "ename": "ValueError",
     "evalue": "invalid literal for int() with base 10: '.'",
     "output_type": "error",
     "traceback": [
      "\u001b[1;31m---------------------------------------------------------------------------\u001b[0m",
      "\u001b[1;31mValueError\u001b[0m                                Traceback (most recent call last)",
      "Cell \u001b[1;32mIn[10], line 15\u001b[0m\n\u001b[0;32m     13\u001b[0m \u001b[38;5;28;01mwhile\u001b[39;00m(\u001b[38;5;28;01mTrue\u001b[39;00m):\n\u001b[0;32m     14\u001b[0m     \u001b[38;5;28;01mtry\u001b[39;00m:\n\u001b[1;32m---> 15\u001b[0m         num \u001b[38;5;241m=\u001b[39m \u001b[38;5;28;43mint\u001b[39;49m\u001b[43m(\u001b[49m\u001b[38;5;28;43minput\u001b[39;49m\u001b[43m(\u001b[49m\u001b[38;5;124;43m\"\u001b[39;49m\u001b[38;5;124;43mEnter any value in 10 to 50 range: \u001b[39;49m\u001b[38;5;124;43m\"\u001b[39;49m\u001b[43m)\u001b[49m\u001b[43m)\u001b[49m\n\u001b[0;32m     16\u001b[0m         \u001b[38;5;28;01mif\u001b[39;00m num \u001b[38;5;241m<\u001b[39m \u001b[38;5;241m10\u001b[39m:\n\u001b[0;32m     17\u001b[0m             \u001b[38;5;28;01mraise\u001b[39;00m ValueTooSmallError()\n",
      "\u001b[1;31mValueError\u001b[0m: invalid literal for int() with base 10: '.'"
     ]
    }
   ],
   "source": [
    "class Error(Exception):\n",
    "    \"\"\"Base class for other exceptions\"\"\"\n",
    "    pass\n",
    "\n",
    "class ValueTooSmallError(Error):\n",
    "    \"\"\"Raised when the input value is small\"\"\"\n",
    "    pass\n",
    "\n",
    "class ValueTooLargeError(Error):\n",
    "    \"\"\"Raised when the input value is large\"\"\"\n",
    "    pass\n",
    "\n",
    "while(True):\n",
    "    try:\n",
    "        num = int(input(\"Enter any value in 10 to 50 range: \"))\n",
    "        if num < 10:\n",
    "            raise ValueTooSmallError()\n",
    "        elif num > 50:\n",
    "            raise ValueTooLargeError()\n",
    "        break\n",
    "    except ValueTooSmallError:\n",
    "            print(\"Value is below range..try again\")\n",
    "\n",
    "    except ValueTooLargeError:\n",
    "            print(\"value out of range...try again\")\n",
    "\n",
    "print(\"Great! value in correct range.\")"
   ]
  },
  {
   "cell_type": "code",
   "execution_count": 11,
   "id": "1185bbd3",
   "metadata": {},
   "outputs": [],
   "source": [
    "class ValueTooSmallError(Error):\n",
    "    def __init__(self, value):\n",
    "        self.value = value\n",
    "        super().__init__(f\"Value {value} is too small\")\n",
    "\n",
    "class ValueTooLargeError(Error):\n",
    "    def __init__(self, value):\n",
    "        self.value = value\n",
    "        super().__init__(f\"Value {value} is too large\")"
   ]
  }
 ],
 "metadata": {
  "kernelspec": {
   "display_name": ".venv",
   "language": "python",
   "name": "python3"
  },
  "language_info": {
   "codemirror_mode": {
    "name": "ipython",
    "version": 3
   },
   "file_extension": ".py",
   "mimetype": "text/x-python",
   "name": "python",
   "nbconvert_exporter": "python",
   "pygments_lexer": "ipython3",
   "version": "3.12.1"
  }
 },
 "nbformat": 4,
 "nbformat_minor": 5
}

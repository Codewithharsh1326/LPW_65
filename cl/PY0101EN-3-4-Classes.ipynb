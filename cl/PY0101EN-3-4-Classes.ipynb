{
 "cells": [
  {
   "cell_type": "markdown",
   "metadata": {},
   "source": [
    "<center>\n",
    "    <img src=\"https://cf-courses-data.s3.us.cloud-object-storage.appdomain.cloud/IBMDeveloperSkillsNetwork-PY0101EN-SkillsNetwork/IDSNlogo.png\" width=\"300\" alt=\"cognitiveclass.ai logo\">\n",
    "</center>\n",
    "\n",
    "# Classes and Objects in Python\n",
    "\n",
    "Estimated time needed: **40** minutes\n",
    "\n",
    "## Objectives\n",
    "\n",
    "After completing this lab you will be able to:\n",
    "\n",
    "*   Work with classes and objects\n",
    "*   Identify and define attributes and methods\n"
   ]
  },
  {
   "cell_type": "markdown",
   "metadata": {},
   "source": [
    "<h2>Table of Contents</h2>\n",
    "<div class=\"alert alert-block alert-info\" style=\"margin-top: 20px\">\n",
    "    <ul>\n",
    "        <li>\n",
    "            <a href=\"#Introduction-to-Classes-and-Objects\">Introduction to Classes and Objects</a>\n",
    "            <ul>\n",
    "                <li><a href=\"#Creating-a-class\">Creating a class</a></li>\n",
    "                <li><a href=\"#Instances-of-a-Class:-Objects-and-Attributes\">Instances of a Class: Objects and Attributes</a></li>\n",
    "                <li><a href=\"#Methods\">Methods</a></li>\n",
    "            </ul>\n",
    "        </li>\n",
    "        <li><a href=\"#Creating-a-class\">Creating a class</a></li>\n",
    "        <li><a href=\"#Creating-an-instance-of-a-class-Circle\">Creating an instance of a class Circle</a></li>\n",
    "        <li><a href=\"#The-Rectangle-Class\">The Rectangle Class</a></li>\n",
    "    </ul>\n",
    "\n",
    "</div>\n",
    "\n",
    "<hr>\n"
   ]
  },
  {
   "cell_type": "markdown",
   "metadata": {},
   "source": [
    "## Introduction to Classes and Objects\n"
   ]
  },
  {
   "cell_type": "markdown",
   "metadata": {},
   "source": [
    "### Creating a Class\n"
   ]
  },
  {
   "cell_type": "markdown",
   "metadata": {},
   "source": [
    "The first step in creating a class is giving it a name. In this notebook, we will create two classes: Circle and Rectangle. We need to determine all the data that make up that class, which we call <em>attributes</em>. Think about this step as creating a blue print that we will use to create objects. In figure 1 we see two classes, Circle and Rectangle. Each has their attributes, which are variables. The class Circle has the attribute radius and color, while the Rectangle class has the attribute height and width. Let’s use the visual examples of these shapes before we get to the code, as this will help you get accustomed to the vocabulary.\n"
   ]
  },
  {
   "cell_type": "markdown",
   "metadata": {},
   "source": [
    "<img src=\"https://cf-courses-data.s3.us.cloud-object-storage.appdomain.cloud/IBMDeveloperSkillsNetwork-PY0101EN-SkillsNetwork/labs/Module%203/images/ClassesClass.png\" width=\"500\">\n"
   ]
  },
  {
   "cell_type": "markdown",
   "metadata": {},
   "source": [
    "<i>Figure 1: Classes circle and rectangle, and each has their own attributes. The class Circle has the attribute radius and colour, the class Rectangle has the attributes height and width.</i>\n"
   ]
  },
  {
   "cell_type": "markdown",
   "metadata": {},
   "source": [
    "### Instances of a Class: Objects and Attributes\n"
   ]
  },
  {
   "cell_type": "markdown",
   "metadata": {},
   "source": [
    "An instance of an object is the realisation of a class, and in Figure 2 we see three instances of the class circle. We give each object a name: red circle, yellow circle, and green circle. Each object has different attributes, so let's focus on the color attribute for each object.\n"
   ]
  },
  {
   "cell_type": "markdown",
   "metadata": {},
   "source": [
    "<img src=\"https://cf-courses-data.s3.us.cloud-object-storage.appdomain.cloud/IBMDeveloperSkillsNetwork-PY0101EN-SkillsNetwork/labs/Module%203/images/ClassesObj.png\" width=\"500\">\n"
   ]
  },
  {
   "cell_type": "markdown",
   "metadata": {},
   "source": [
    "<i>Figure 2: Three instances of the class Circle, or three objects of type Circle.</i>\n"
   ]
  },
  {
   "cell_type": "markdown",
   "metadata": {},
   "source": [
    "The colour attribute for the red Circle is the colour red, for the green Circle object the colour attribute is green, and for the yellow Circle the colour attribute is yellow.\n"
   ]
  },
  {
   "cell_type": "markdown",
   "metadata": {},
   "source": [
    "### Methods\n"
   ]
  },
  {
   "cell_type": "markdown",
   "metadata": {},
   "source": [
    "Methods give you a way to change or interact with the object; they are functions that interact with objects. For example, let’s say we would like to increase the radius of a circle by a specified amount. We can create a method called **add_radius(r)** that increases the radius by **r**. This is shown in figure 3, where after applying the method to the \"orange circle object\", the radius of the object increases accordingly. The “dot” notation means to apply the method to the object, which is essentially applying a function to the information in the object.\n"
   ]
  },
  {
   "cell_type": "markdown",
   "metadata": {},
   "source": [
    "<img src=\"https://cf-courses-data.s3.us.cloud-object-storage.appdomain.cloud/IBMDeveloperSkillsNetwork-PY0101EN-SkillsNetwork/labs/Module%203/images/ClassesMethod.png\" width=\"500\"> \n"
   ]
  },
  {
   "cell_type": "markdown",
   "metadata": {},
   "source": [
    "<i>Figure 3: Applying the method “add_radius” to the object orange circle object.</i>\n"
   ]
  },
  {
   "cell_type": "markdown",
   "metadata": {},
   "source": [
    "<hr>\n"
   ]
  },
  {
   "cell_type": "markdown",
   "metadata": {},
   "source": [
    "## Creating a Class\n"
   ]
  },
  {
   "cell_type": "markdown",
   "metadata": {},
   "source": [
    "Now we are going to create a class Circle, but first, we are going to import a library to draw the objects:\n"
   ]
  },
  {
   "cell_type": "code",
   "execution_count": 1,
   "metadata": {},
   "outputs": [],
   "source": [
    "# Import the library\n",
    "\n",
    "import matplotlib.pyplot as plt\n",
    "%matplotlib inline  "
   ]
  },
  {
   "cell_type": "markdown",
   "metadata": {},
   "source": [
    "The first step in creating your own class is to use the <code>class</code> keyword, then the name of the class as shown in Figure 4. In this course the class parent will always be object:\n"
   ]
  },
  {
   "cell_type": "markdown",
   "metadata": {},
   "source": [
    "<img src=\"https://cf-courses-data.s3.us.cloud-object-storage.appdomain.cloud/IBMDeveloperSkillsNetwork-PY0101EN-SkillsNetwork/labs/Module%203/images/ClassesDefine.png\" width=\"400\">\n"
   ]
  },
  {
   "cell_type": "markdown",
   "metadata": {},
   "source": [
    "<i>Figure 4: Creating a class Circle.</i>\n"
   ]
  },
  {
   "cell_type": "markdown",
   "metadata": {},
   "source": [
    "The next step is a special method called a constructor <code>\\__init\\_\\_</code>, which is used to initialize the object. The inputs are data attributes. The term <code>self</code> contains all the attributes in the set. For example the <code>self.color</code> gives the value of the attribute color and <code>self.radius</code> will give you the radius of the object. We also have the method <code>add_radius()</code> with the parameter <code>r</code>, the method adds the value of <code>r</code> to the attribute radius. To access the radius we use the syntax <code>self.radius</code>. The labeled syntax is summarized in Figure 5:\n"
   ]
  },
  {
   "cell_type": "markdown",
   "metadata": {},
   "source": [
    "<img src=\"https://cf-courses-data.s3.us.cloud-object-storage.appdomain.cloud/IBMDeveloperSkillsNetwork-PY0101EN-SkillsNetwork/labs/Module%203/images/ClassesCircle.png\" width=\"600\">\n"
   ]
  },
  {
   "cell_type": "markdown",
   "metadata": {},
   "source": [
    "<i>Figure 5: Labeled syntax of the object circle.</i>\n"
   ]
  },
  {
   "cell_type": "markdown",
   "metadata": {},
   "source": [
    "The actual object is shown below. We include the method <code>drawCircle</code> to display the image of a circle. We set the default radius to 3 and the default colour to blue:\n"
   ]
  },
  {
   "cell_type": "code",
   "execution_count": 19,
   "metadata": {},
   "outputs": [],
   "source": [
    "# Create a class Circle\n",
    "\n",
    "class Circle(object):\n",
    "    #r1=10\n",
    "    # Constructor\n",
    "    def __init__(self,radius,color='blue'):\n",
    "        self.radius = radius\n",
    "        self.color = color \n",
    "    \n",
    "    # Method\n",
    "    def add_radius(self, r):\n",
    "        self.radius = self.radius + r\n",
    "        return(self.radius)\n",
    "    \n",
    "    def display(self):\n",
    "        print(self.radius)\n",
    "    \n",
    "    # Method\n",
    "    def drawCircle(self):\n",
    "        plt.gca().add_patch(plt.Circle((0, 0), radius=self.radius, fc=self.color))\n",
    "        plt.axis('scaled')\n",
    "        plt.show()  "
   ]
  },
  {
   "cell_type": "markdown",
   "metadata": {},
   "source": [
    "<hr>\n"
   ]
  },
  {
   "cell_type": "markdown",
   "metadata": {},
   "source": [
    "## Creating an instance of a class Circle\n"
   ]
  },
  {
   "cell_type": "markdown",
   "metadata": {},
   "source": [
    "Let’s create the object <code>RedCircle</code> of type Circle to do the following:\n"
   ]
  },
  {
   "cell_type": "code",
   "execution_count": 11,
   "metadata": {},
   "outputs": [
    {
     "name": "stdout",
     "output_type": "stream",
     "text": [
      "10\n"
     ]
    }
   ],
   "source": [
    "# Create an object RedCircle\n",
    "\n",
    "RedCircle = Circle(10, 'red')\n",
    "RedCircle.display()"
   ]
  },
  {
   "cell_type": "markdown",
   "metadata": {},
   "source": [
    "We can use the <code>dir</code> command to get a list of the object's methods. Many of them are default Python methods.\n"
   ]
  },
  {
   "cell_type": "code",
   "execution_count": 5,
   "metadata": {},
   "outputs": [
    {
     "data": {
      "text/plain": [
       "['__class__',\n",
       " '__delattr__',\n",
       " '__dict__',\n",
       " '__dir__',\n",
       " '__doc__',\n",
       " '__eq__',\n",
       " '__format__',\n",
       " '__ge__',\n",
       " '__getattribute__',\n",
       " '__getstate__',\n",
       " '__gt__',\n",
       " '__hash__',\n",
       " '__init__',\n",
       " '__init_subclass__',\n",
       " '__le__',\n",
       " '__lt__',\n",
       " '__module__',\n",
       " '__ne__',\n",
       " '__new__',\n",
       " '__reduce__',\n",
       " '__reduce_ex__',\n",
       " '__repr__',\n",
       " '__setattr__',\n",
       " '__sizeof__',\n",
       " '__str__',\n",
       " '__subclasshook__',\n",
       " '__weakref__',\n",
       " 'add_radius',\n",
       " 'color',\n",
       " 'drawCircle',\n",
       " 'radius']"
      ]
     },
     "execution_count": 5,
     "metadata": {},
     "output_type": "execute_result"
    }
   ],
   "source": [
    "# Find out the methods can be used on the object RedCircle\n",
    "\n",
    "dir(RedCircle)"
   ]
  },
  {
   "cell_type": "markdown",
   "metadata": {},
   "source": [
    "We can look at the data attributes of the object:\n"
   ]
  },
  {
   "cell_type": "code",
   "execution_count": 12,
   "metadata": {},
   "outputs": [
    {
     "data": {
      "text/plain": [
       "10"
      ]
     },
     "execution_count": 12,
     "metadata": {},
     "output_type": "execute_result"
    }
   ],
   "source": [
    "# Print the object attribute radius\n",
    "\n",
    "RedCircle.radius"
   ]
  },
  {
   "cell_type": "code",
   "execution_count": 13,
   "metadata": {},
   "outputs": [
    {
     "data": {
      "text/plain": [
       "'red'"
      ]
     },
     "execution_count": 13,
     "metadata": {},
     "output_type": "execute_result"
    }
   ],
   "source": [
    "# Print the object attribute color\n",
    "\n",
    "RedCircle.color"
   ]
  },
  {
   "cell_type": "markdown",
   "metadata": {},
   "source": [
    "We can change the object's data attributes:\n"
   ]
  },
  {
   "cell_type": "code",
   "execution_count": 14,
   "metadata": {},
   "outputs": [
    {
     "data": {
      "text/plain": [
       "1"
      ]
     },
     "execution_count": 14,
     "metadata": {},
     "output_type": "execute_result"
    }
   ],
   "source": [
    "# Set the object attribute radius\n",
    "\n",
    "RedCircle.radius = 1\n",
    "RedCircle.radius"
   ]
  },
  {
   "cell_type": "markdown",
   "metadata": {},
   "source": [
    "We can draw the object by using the method <code>drawCircle()</code>:\n"
   ]
  },
  {
   "cell_type": "code",
   "execution_count": 20,
   "metadata": {},
   "outputs": [
    {
     "data": {
      "image/png": "[encoded data removed]",
      "text/plain": [
       "<Figure size 640x480 with 1 Axes>"
      ]
     },
     "metadata": {},
     "output_type": "display_data"
    }
   ],
   "source": [
    "# Call the method drawCircle\n",
    "\n",
    "RedCircle.drawCircle()"
   ]
  },
  {
   "cell_type": "markdown",
   "metadata": {},
   "source": [
    "We can increase the radius of the circle by applying the method <code>add_radius()</code>. Let's increases the radius by 2 and then by 5:\n"
   ]
  },
  {
   "cell_type": "code",
   "execution_count": 16,
   "metadata": {},
   "outputs": [
    {
     "name": "stdout",
     "output_type": "stream",
     "text": [
      "Radius of object: 1\n",
      "Radius of object of after applying the method add_radius(2): 3\n",
      "Radius of object of after applying the method add_radius(5): 8\n"
     ]
    }
   ],
   "source": [
    "# Use method to change the object attribute radius\n",
    "\n",
    "print('Radius of object:',RedCircle.radius)\n",
    "RedCircle.add_radius(2)\n",
    "print('Radius of object of after applying the method add_radius(2):',RedCircle.radius)\n",
    "RedCircle.add_radius(5)\n",
    "print('Radius of object of after applying the method add_radius(5):',RedCircle.radius)"
   ]
  },
  {
   "cell_type": "markdown",
   "metadata": {},
   "source": [
    "Let’s create a blue circle. As the default colour is blue, all we have to do is specify what the radius is:\n"
   ]
  },
  {
   "cell_type": "code",
   "execution_count": 21,
   "metadata": {},
   "outputs": [],
   "source": [
    "# Create a blue circle with a given radius\n",
    "\n",
    "BlueCircle = Circle(100)"
   ]
  },
  {
   "cell_type": "markdown",
   "metadata": {},
   "source": [
    "As before, we can access the attributes of the instance of the class by using the dot notation:\n"
   ]
  },
  {
   "cell_type": "code",
   "execution_count": 22,
   "metadata": {},
   "outputs": [
    {
     "data": {
      "text/plain": [
       "100"
      ]
     },
     "execution_count": 22,
     "metadata": {},
     "output_type": "execute_result"
    }
   ],
   "source": [
    "# Print the object attribute radius\n",
    "\n",
    "BlueCircle.radius"
   ]
  },
  {
   "cell_type": "code",
   "execution_count": 23,
   "metadata": {},
   "outputs": [
    {
     "data": {
      "text/plain": [
       "'blue'"
      ]
     },
     "execution_count": 23,
     "metadata": {},
     "output_type": "execute_result"
    }
   ],
   "source": [
    "# Print the object attribute color\n",
    "\n",
    "BlueCircle.color"
   ]
  },
  {
   "cell_type": "markdown",
   "metadata": {},
   "source": [
    "We can draw the object by using the method <code>drawCircle()</code>:\n"
   ]
  },
  {
   "cell_type": "code",
   "execution_count": 24,
   "metadata": {},
   "outputs": [
    {
     "data": {
      "image/png": "[encoded data removed]",
      "text/plain": [
       "<Figure size 640x480 with 1 Axes>"
      ]
     },
     "metadata": {},
     "output_type": "display_data"
    }
   ],
   "source": [
    "# Call the method drawCircle\n",
    "\n",
    "BlueCircle.drawCircle()"
   ]
  },
  {
   "cell_type": "markdown",
   "metadata": {},
   "source": [
    "| Access Specifier | Prefix   | Accessible From                 | Enforced by Python?       |\n",
    "| ---------------- | -------- | ------------------------------- | ------------------------- |\n",
    "| Public           | None     | Everywhere                      | No                        |\n",
    "| Protected        | `_name`  | Class + Subclass                | No (just a convention)    |\n",
    "| Private          | `__name` | Only within the class           | Partially                 |"
   ]
  },
  {
   "cell_type": "code",
   "execution_count": 1,
   "metadata": {},
   "outputs": [
    {
     "name": "stdout",
     "output_type": "stream",
     "text": [
      "I am a class attribute\n",
      "I am a class attribute\n",
      "I am a class attribute\n",
      "I am a class attribute\n"
     ]
    }
   ],
   "source": [
    "class MyClass:\n",
    "    class_attr = \"I am a class attribute\"\n",
    "\n",
    "    def instance_method(self):\n",
    "        # Accessing using class name\n",
    "        print(MyClass.class_attr)\n",
    "        print(self.class_attr)\n",
    "\n",
    "    @classmethod\n",
    "    def class_method(cl):\n",
    "        # Accessing using cls\n",
    "        print(cl.class_attr)\n",
    "\n",
    "# Outside the class\n",
    "print(MyClass.class_attr)  # Direct access\n",
    "\n",
    "# Through an instance\n",
    "obj = MyClass()\n",
    "obj.instance_method()      # Access inside instance method\n",
    "obj.class_method()     # Access inside class method"
   ]
  },
  {
   "cell_type": "markdown",
   "metadata": {},
   "source": [
    "Compare the x and y axis of the figure to the figure for <code>RedCircle</code>; they are different.\n"
   ]
  },
  {
   "cell_type": "markdown",
   "metadata": {},
   "source": [
    "<hr>\n"
   ]
  },
  {
   "cell_type": "markdown",
   "metadata": {},
   "source": [
    "## The Rectangle Class\n"
   ]
  },
  {
   "cell_type": "markdown",
   "metadata": {},
   "source": [
    "Let's create a class rectangle with the attributes of height, width, and color. We will only add the method to draw the rectangle object:\n"
   ]
  },
  {
   "cell_type": "code",
   "execution_count": 26,
   "metadata": {},
   "outputs": [],
   "source": [
    "# Create a new Rectangle class for creating a rectangle object\n",
    "\n",
    "class Rectangle(object):\n",
    "    \n",
    "    # Constructor\n",
    "    def __init__(self, width=2, height=3, color='r'):\n",
    "        self.height = height \n",
    "        self.width = width\n",
    "        self.color = color\n",
    "    \n",
    "    # Method\n",
    "    def drawRectangle(self):\n",
    "        plt.gca().add_patch(plt.Rectangle((0, 0), self.width, self.height ,fc=self.color))\n",
    "        plt.axis('scaled')\n",
    "        plt.show()\n",
    "        "
   ]
  },
  {
   "cell_type": "markdown",
   "metadata": {},
   "source": [
    "Let’s create the object <code>SkinnyBlueRectangle</code> of type Rectangle. Its width will be 2 and height will be 3, and the color will be blue:\n"
   ]
  },
  {
   "cell_type": "code",
   "execution_count": 27,
   "metadata": {},
   "outputs": [],
   "source": [
    "# Create a new object rectangle\n",
    "\n",
    "SkinnyBlueRectangle = Rectangle(2, 3, 'blue')"
   ]
  },
  {
   "cell_type": "markdown",
   "metadata": {},
   "source": [
    "As before we can access the attributes of the instance of the class by using the dot notation:\n"
   ]
  },
  {
   "cell_type": "code",
   "execution_count": 28,
   "metadata": {},
   "outputs": [
    {
     "data": {
      "text/plain": [
       "3"
      ]
     },
     "execution_count": 28,
     "metadata": {},
     "output_type": "execute_result"
    }
   ],
   "source": [
    "# Print the object attribute height\n",
    "\n",
    "SkinnyBlueRectangle.height "
   ]
  },
  {
   "cell_type": "code",
   "execution_count": 29,
   "metadata": {},
   "outputs": [
    {
     "data": {
      "text/plain": [
       "2"
      ]
     },
     "execution_count": 29,
     "metadata": {},
     "output_type": "execute_result"
    }
   ],
   "source": [
    "# Print the object attribute width\n",
    "\n",
    "SkinnyBlueRectangle.width"
   ]
  },
  {
   "cell_type": "code",
   "execution_count": 30,
   "metadata": {},
   "outputs": [
    {
     "data": {
      "text/plain": [
       "'blue'"
      ]
     },
     "execution_count": 30,
     "metadata": {},
     "output_type": "execute_result"
    }
   ],
   "source": [
    "# Print the object attribute color\n",
    "\n",
    "SkinnyBlueRectangle.color"
   ]
  },
  {
   "cell_type": "markdown",
   "metadata": {},
   "source": [
    "We can draw the object:\n"
   ]
  },
  {
   "cell_type": "code",
   "execution_count": 31,
   "metadata": {},
   "outputs": [
    {
     "data": {
      "image/png": "[encoded data removed]",
      "text/plain": [
       "<Figure size 640x480 with 1 Axes>"
      ]
     },
     "metadata": {},
     "output_type": "display_data"
    }
   ],
   "source": [
    "# Use the drawRectangle method to draw the shape\n",
    "\n",
    "SkinnyBlueRectangle.drawRectangle()"
   ]
  },
  {
   "cell_type": "markdown",
   "metadata": {},
   "source": [
    "Let’s create the object <code>FatYellowRectangle</code> of type Rectangle:\n"
   ]
  },
  {
   "cell_type": "code",
   "execution_count": 32,
   "metadata": {},
   "outputs": [],
   "source": [
    "# Create a new object rectangle\n",
    "\n",
    "FatYellowRectangle = Rectangle(20, 5, 'yellow')"
   ]
  },
  {
   "cell_type": "markdown",
   "metadata": {},
   "source": [
    "We can access the attributes of the instance of the class by using the dot notation:\n"
   ]
  },
  {
   "cell_type": "code",
   "execution_count": 33,
   "metadata": {},
   "outputs": [
    {
     "data": {
      "text/plain": [
       "5"
      ]
     },
     "execution_count": 33,
     "metadata": {},
     "output_type": "execute_result"
    }
   ],
   "source": [
    "# Print the object attribute height\n",
    "\n",
    "FatYellowRectangle.height "
   ]
  },
  {
   "cell_type": "code",
   "execution_count": 34,
   "metadata": {},
   "outputs": [
    {
     "data": {
      "text/plain": [
       "20"
      ]
     },
     "execution_count": 34,
     "metadata": {},
     "output_type": "execute_result"
    }
   ],
   "source": [
    "# Print the object attribute width\n",
    "\n",
    "FatYellowRectangle.width"
   ]
  },
  {
   "cell_type": "code",
   "execution_count": 35,
   "metadata": {},
   "outputs": [
    {
     "data": {
      "text/plain": [
       "'yellow'"
      ]
     },
     "execution_count": 35,
     "metadata": {},
     "output_type": "execute_result"
    }
   ],
   "source": [
    "# Print the object attribute color\n",
    "\n",
    "FatYellowRectangle.color"
   ]
  },
  {
   "cell_type": "markdown",
   "metadata": {},
   "source": [
    "We can draw the object:\n"
   ]
  },
  {
   "cell_type": "code",
   "execution_count": 36,
   "metadata": {},
   "outputs": [
    {
     "data": {
      "image/png": "[encoded data removed]",
      "text/plain": [
       "<Figure size 640x480 with 1 Axes>"
      ]
     },
     "metadata": {},
     "output_type": "display_data"
    }
   ],
   "source": [
    "# Use the drawRectangle method to draw the shape\n",
    "\n",
    "FatYellowRectangle.drawRectangle()"
   ]
  },
  {
   "cell_type": "markdown",
   "metadata": {},
   "source": [
    "<hr>\n"
   ]
  },
  {
   "cell_type": "markdown",
   "metadata": {},
   "source": [
    "<center>\n",
    "    \n",
    "# Scenario: Car dealership's inventory management system\n",
    "\n",
    "</center>\n"
   ]
  },
  {
   "cell_type": "markdown",
   "metadata": {},
   "source": [
    "You are working on a Python program to simulate a car dealership's inventory management system. The system aims to model cars and their attributes accurately.\n"
   ]
  },
  {
   "cell_type": "markdown",
   "metadata": {},
   "source": [
    "### Task-1. You are tasked with creating a Python program to represent vehicles using a class. Each car should have attributes for maximum speed and mileage. \n"
   ]
  },
  {
   "cell_type": "code",
   "execution_count": null,
   "metadata": {},
   "outputs": [],
   "source": [
    "#Type your code here"
   ]
  },
  {
   "cell_type": "markdown",
   "metadata": {},
   "source": [
    "<details><summary>Click here for the solution</summary>\n",
    "\n",
    "```python\n",
    "\n",
    "class Vehicle:\n",
    "    def __init__(self, max_speed, mileage):\n",
    "        self.max_speed = max_speed\n",
    "        self.mileage = mileage\n",
    "        \n",
    "```\n",
    "\n",
    "</details>\n"
   ]
  },
  {
   "cell_type": "markdown",
   "metadata": {},
   "source": [
    "### Task-2. Update the class with the default color for all vehicles,\" white\".\n"
   ]
  },
  {
   "cell_type": "code",
   "execution_count": 37,
   "metadata": {},
   "outputs": [],
   "source": [
    "#Type your code here"
   ]
  },
  {
   "cell_type": "markdown",
   "metadata": {},
   "source": [
    "<details><summary>Click here for the solution</summary>\n",
    "\n",
    "```python\n",
    "\n",
    "class Vehicle:\n",
    "    color = \"white\"\n",
    "\n",
    "    def __init__(self, max_speed, mileage):\n",
    "        self.max_speed = max_speed\n",
    "        self.mileage = mileage\n",
    "        \n",
    "```\n",
    "\n",
    "</details>\n"
   ]
  },
  {
   "cell_type": "markdown",
   "metadata": {},
   "source": [
    "### Task-3. Additionally, you need to create methods in the Vehicle class to assign seating capacity to a vehicle. \n"
   ]
  },
  {
   "cell_type": "code",
   "execution_count": null,
   "metadata": {},
   "outputs": [],
   "source": [
    "#Type your code here"
   ]
  },
  {
   "cell_type": "markdown",
   "metadata": {},
   "source": [
    "<details><summary>Click here for the solution</summary>\n",
    "\n",
    "```python\n",
    "\n",
    "class Vehicle:\n",
    "    color = \"white\"\n",
    "\n",
    "    def __init__(self, max_speed, mileage):\n",
    "        self.max_speed = max_speed\n",
    "        self.mileage = mileage\n",
    "        self.seating_capacity = None\n",
    "\n",
    "    def assign_seating_capacity(self, seating_capacity):\n",
    "        self.seating_capacity = seating_capacity\n",
    "```\n",
    "\n",
    "</details>\n"
   ]
  },
  {
   "cell_type": "markdown",
   "metadata": {},
   "source": [
    "### Task-4. Create a method to display all the properties of an object of the class. \n"
   ]
  },
  {
   "cell_type": "code",
   "execution_count": 38,
   "metadata": {},
   "outputs": [
    {
     "name": "stdout",
     "output_type": "stream",
     "text": [
      "200\n",
      "20\n",
      "5\n",
      "180\n",
      "25\n",
      "4\n"
     ]
    }
   ],
   "source": [
    "#Type your code here\n",
    "class Vehicle:\n",
    "    color = \"white\"\n",
    "\n",
    "    def __init__(self, max_speed, mileage):\n",
    "        self.max_speed = max_speed\n",
    "        self.mileage = mileage\n",
    "        self.seating_capacity = None\n",
    "\n",
    "    def assign_seating_capacity(self, seating_capacity):\n",
    "        self.seating_capacity = seating_capacity\n",
    "    def display(self):\n",
    "        print(self.max_speed)\n",
    "        print(self.mileage)\n",
    "        print(self.seating_capacity)\n",
    "v1=Vehicle(200,20)\n",
    "v2=Vehicle(180,25)\n",
    "v1.assign_seating_capacity(5)\n",
    "v2=Vehicle(200,20)\n",
    "v2=Vehicle(180,25)\n",
    "v2.assign_seating_capacity(5)\n",
    "v2.assign_seating_capacity(4)\n",
    "v1.display()\n",
    "v2.display()"
   ]
  },
  {
   "cell_type": "markdown",
   "metadata": {},
   "source": [
    "<details><summary>Click here for the solution</summary>\n",
    "\n",
    "```python\n",
    "class Vehicle:\n",
    "    color = \"white\"\n",
    "\n",
    "    def __init__(self, max_speed, mileage):\n",
    "        self.max_speed = max_speed\n",
    "        self.mileage = mileage\n",
    "        self.seating_capacity = None\n",
    "\n",
    "    def assign_seating_capacity(self, seating_capacity):\n",
    "        self.seating_capacity = seating_capacity\n",
    "\n",
    "    def display_properties(self):\n",
    "        print(\"Properties of the Vehicle:\")\n",
    "        print(\"Color:\", self.color)\n",
    "        print(\"Maximum Speed:\", self.max_speed)\n",
    "        print(\"Mileage:\", self.mileage)\n",
    "        print(\"Seating Capacity:\", self.seating_capacity)\n",
    "        \n",
    "```\n",
    "\n",
    "</details>\n"
   ]
  },
  {
   "cell_type": "code",
   "execution_count": 39,
   "metadata": {},
   "outputs": [],
   "source": [
    "v1=Vehicle(200,20)\n",
    "v2=Vehicle(180,25)\n",
    "v1.assign_seating_capacity(5)"
   ]
  },
  {
   "cell_type": "markdown",
   "metadata": {},
   "source": [
    "### Task-5. Additionally, you need to create two objects of the Vehicle class object that should have a max speed of 200kmph and mileage of 20kmpl with five seating capacities, and another car object should have a max speed of 180kmph and mileage of 25kmpl with four seating capacities.\n"
   ]
  },
  {
   "cell_type": "code",
   "execution_count": null,
   "metadata": {},
   "outputs": [],
   "source": [
    "#Type your code here"
   ]
  },
  {
   "cell_type": "markdown",
   "metadata": {},
   "source": [
    "<details><summary>Click here for the solution</summary>\n",
    "\n",
    "```python\n",
    "class Vehicle:\n",
    "    color = \"white\"\n",
    "\n",
    "    def __init__(self, max_speed, mileage):\n",
    "        self.max_speed = max_speed\n",
    "        self.mileage = mileage\n",
    "        self.seating_capacity = None\n",
    "\n",
    "    def assign_seating_capacity(self, seating_capacity):\n",
    "        self.seating_capacity = seating_capacity\n",
    "\n",
    "    def display_properties(self):\n",
    "        print(\"Properties of the Vehicle:\")\n",
    "        print(\"Color:\", self.color)\n",
    "        print(\"Maximum Speed:\", self.max_speed)\n",
    "        print(\"Mileage:\", self.mileage)\n",
    "        print(\"Seating Capacity:\", self.seating_capacity)\n",
    "\n",
    "# Creating objects of the Vehicle class\n",
    "vehicle1 = Vehicle(200, 20)\n",
    "vehicle1.assign_seating_capacity(5)\n",
    "vehicle1.display_properties()\n",
    "\n",
    "vehicle2 = Vehicle(180, 25)\n",
    "vehicle2.assign_seating_capacity(4)\n",
    "vehicle2.display_properties()\n",
    "\n",
    "```\n",
    "\n",
    "</details>\n"
   ]
  },
  {
   "cell_type": "markdown",
   "metadata": {},
   "source": [
    "<hr>\n",
    "<h2>The last exercise!</h2>\n",
    "<p>Congratulations, you have completed your first lesson and hands-on lab in Python. \n",
    "<hr>\n"
   ]
  },
  {
   "cell_type": "markdown",
   "metadata": {},
   "source": [
    "# Single Inheritance\n",
    "# In single inheritance, a child class inherits from a single-parent class. \n",
    "# Here is one child class and one parent class."
   ]
  },
  {
   "cell_type": "code",
   "execution_count": 40,
   "metadata": {},
   "outputs": [],
   "source": [
    "# Base class\n",
    "class Vehicle:\n",
    "    def Vehicle_info(self):\n",
    "     #   print('Inside Vehicle class')\n",
    "        def __init__(s):\n",
    "            print('Inside Vehicle class')          \n",
    "\n",
    "# Child class\n",
    "class Car(Vehicle):\n",
    "    def car_info(self):\n",
    "     #   print('Inside Car class')\n",
    "        def __init__(s):\n",
    "            print('Inside car class')          \n",
    "\n",
    "# Create object of Car\n",
    "car = Car()\n",
    "# access Vehicle's info using car object\n",
    "car.Vehicle_info()\n",
    "car.car_info()"
   ]
  },
  {
   "cell_type": "markdown",
   "metadata": {},
   "source": [
    "# Multiple Inheritance\n",
    "# In multiple inheritance, one child class can inherit from multiple parent classes. \n",
    "# So here is one child class and multiple parent classes."
   ]
  },
  {
   "cell_type": "code",
   "execution_count": null,
   "metadata": {},
   "outputs": [],
   "source": [
    "# Parent class 1\n",
    "class Person:\n",
    "    def person_info(self, name, age):\n",
    "        print('Inside Person class')\n",
    "        print('Name:', name, 'Age:', age)\n",
    "\n",
    "# Parent class 2\n",
    "class Company:\n",
    "    def company_info(self, company_name, location):\n",
    "        print('Inside Company class')\n",
    "        print('Name:', company_name, 'location:', location)\n",
    "\n",
    "# Child class\n",
    "class Employee(Person, Company):\n",
    "    def Employee_info(self, salary, skill):\n",
    "        print('Inside Employee class')\n",
    "        print('Salary:', salary, 'Skill:', skill)\n",
    "\n",
    "# Create object of Employee\n",
    "emp = Employee()\n",
    "\n",
    "# access data\n",
    "emp.person_info('Jessa', 28)\n",
    "emp.company_info('Google', 'Atlanta')\n",
    "emp.Employee_info(12000, 'Machine Learning')"
   ]
  },
  {
   "cell_type": "markdown",
   "metadata": {},
   "source": [
    "# Multilevel inheritance\n",
    "# In multilevel inheritance, a class inherits from a child class or derived class. Suppose three classes A, B, C. \n",
    "# A is the superclass, B is the child class of A, C is the child class of B. \n",
    "# In other words, we can say a chain of classes is called multilevel inheritance."
   ]
  },
  {
   "cell_type": "code",
   "execution_count": 41,
   "metadata": {},
   "outputs": [
    {
     "name": "stdout",
     "output_type": "stream",
     "text": [
      "Inside Vehicle class\n",
      "Inside Car class\n",
      "Inside SportsCar class\n"
     ]
    }
   ],
   "source": [
    "# Base class\n",
    "class Vehicle:\n",
    "    def Vehicle_info(self):\n",
    "        print('Inside Vehicle class')\n",
    "\n",
    "# Child class\n",
    "class Car(Vehicle):\n",
    "    def car_info(self):\n",
    "        print('Inside Car class')\n",
    "\n",
    "# Child class\n",
    "class SportsCar(Car):\n",
    "    def sports_car_info(self):\n",
    "        print('Inside SportsCar class')\n",
    "\n",
    "# Create object of SportsCar\n",
    "s_car = SportsCar()\n",
    "\n",
    "# access Vehicle's and Car info using SportsCar object\n",
    "s_car.Vehicle_info()\n",
    "s_car.car_info()\n",
    "s_car.sports_car_info()"
   ]
  },
  {
   "cell_type": "markdown",
   "metadata": {},
   "source": [
    "# Hierarchical Inheritance\n",
    "# In Hierarchical inheritance, more than one child class is derived from a single parent class. \n",
    "# In other words, we can say one parent class and multiple child classes."
   ]
  },
  {
   "cell_type": "code",
   "execution_count": 2,
   "metadata": {},
   "outputs": [
    {
     "name": "stdout",
     "output_type": "stream",
     "text": [
      "This is Vehicle\n",
      "Car name is: BMW\n",
      "This is Vehicle\n",
      "Truck name is: Ford\n"
     ]
    },
    {
     "data": {
      "text/plain": [
       "['__class__',\n",
       " '__delattr__',\n",
       " '__dict__',\n",
       " '__dir__',\n",
       " '__doc__',\n",
       " '__eq__',\n",
       " '__format__',\n",
       " '__ge__',\n",
       " '__getattribute__',\n",
       " '__getstate__',\n",
       " '__gt__',\n",
       " '__hash__',\n",
       " '__init__',\n",
       " '__init_subclass__',\n",
       " '__le__',\n",
       " '__lt__',\n",
       " '__module__',\n",
       " '__ne__',\n",
       " '__new__',\n",
       " '__reduce__',\n",
       " '__reduce_ex__',\n",
       " '__repr__',\n",
       " '__setattr__',\n",
       " '__sizeof__',\n",
       " '__str__',\n",
       " '__subclasshook__',\n",
       " '__weakref__',\n",
       " 'car_info',\n",
       " 'info']"
      ]
     },
     "execution_count": 2,
     "metadata": {},
     "output_type": "execute_result"
    }
   ],
   "source": [
    "class Vehicle:\n",
    "    def info(self):\n",
    "        print(\"This is Vehicle\")\n",
    "\n",
    "class Car(Vehicle):\n",
    "    def car_info(self, name):\n",
    "        print(\"Car name is:\", name)\n",
    "\n",
    "class Truck(Vehicle):\n",
    "    def truck_info(self, name):\n",
    "        print(\"Truck name is:\", name)\n",
    "\n",
    "obj1 = Car()\n",
    "obj1.info()\n",
    "obj1.car_info('BMW')\n",
    "\n",
    "obj2 = Truck()\n",
    "obj2.info()\n",
    "obj2.truck_info('Ford')\n",
    "\n",
    "dir(obj1)"
   ]
  },
  {
   "cell_type": "markdown",
   "metadata": {},
   "source": [
    "# Hybrid Inheritance\n",
    "# When inheritance is consists of multiple types or a combination of different inheritance is called hybrid inheritance."
   ]
  },
  {
   "cell_type": "code",
   "execution_count": 43,
   "metadata": {},
   "outputs": [
    {
     "name": "stdout",
     "output_type": "stream",
     "text": [
      "Inside Vehicle class\n",
      "Inside Car class\n",
      "Inside SportsCar class\n"
     ]
    }
   ],
   "source": [
    "class Vehicle:\n",
    "    def vehicle_info(self):\n",
    "        print(\"Inside Vehicle class\")\n",
    "\n",
    "class Car(Vehicle):\n",
    "    def car_info(self):\n",
    "        print(\"Inside Car class\")\n",
    "\n",
    "class Truck(Vehicle):\n",
    "    def truck_info(self):\n",
    "        print(\"Inside Truck class\")\n",
    "\n",
    "# Sports Car can inherits properties of Vehicle and Car\n",
    "class SportsCar(Car, Truck):\n",
    "    def sports_car_info(self):\n",
    "        print(\"Inside SportsCar class\")\n",
    "\n",
    "# create object\n",
    "s_car = SportsCar()\n",
    "\n",
    "s_car.vehicle_info()\n",
    "s_car.car_info()\n",
    "s_car.sports_car_info()"
   ]
  },
  {
   "cell_type": "markdown",
   "metadata": {},
   "source": [
    "# Python super() function\n",
    "# Benefits of using the super() function.\n",
    "\n",
    "# We are not required to remember or specify the parent class name to access its methods.\n",
    "\n",
    "# We can use the super() function in both single and multiple inheritances.\n",
    "\n",
    "# The super() function support code reusability as there is no need to write the entire function"
   ]
  },
  {
   "cell_type": "code",
   "execution_count": 3,
   "metadata": {},
   "outputs": [],
   "source": [
    "class Company:\n",
    "    name='amzon'\n",
    "    def company_name(self):\n",
    "        self.name=name\n",
    "        return 'Google'\n",
    "\n",
    "class Employee(Company):\n",
    "    def info(self):\n",
    "        em=Employee()\n",
    "        cmp=Company()\n",
    "        # Calling the superclass method using super()function\n",
    "        #c_name = em.info()\n",
    "        o_name=super().name\n",
    "        print(\"Jessa works at\", o_name)\n",
    "\n",
    "# Creating object of child class\n",
    "emp = Employee()\n",
    "#em.info()"
   ]
  },
  {
   "cell_type": "markdown",
   "metadata": {},
   "source": [
    "# Method Overriding\n",
    "# When a child class method has the same name, same parameters, and \n",
    "# same return type as a method in its superclass, then the method in the child is said to override the method in the parent class."
   ]
  },
  {
   "cell_type": "code",
   "execution_count": 6,
   "metadata": {},
   "outputs": [
    {
     "name": "stdout",
     "output_type": "stream",
     "text": [
      "max speed is 200 Km/Hour\n",
      "max speed is 100 Km/Hour\n",
      "max speed is 100 Km/Hour\n",
      "max speed is 100 Km/Hour\n"
     ]
    }
   ],
   "source": [
    "class Vehicle:\n",
    "    def max_speed(self):\n",
    "        print(\"max speed is 100 Km/Hour\")\n",
    "\n",
    "class Car(Vehicle):\n",
    "    # overridden the implementation of Vehicle class\n",
    "    def max_speed(self):\n",
    "        print(\"max speed is 200 Km/Hour\")\n",
    "\n",
    "# Creating object of Car class\n",
    "c = Car()\n",
    "v=Vehicle()\n",
    "c.max_speed()\n",
    "v.max_speed()\n",
    "c = v\n",
    "c.max_speed()\n",
    "v.max_speed()"
   ]
  },
  {
   "cell_type": "markdown",
   "metadata": {},
   "source": [
    "# Method Resolution Order in Python\n",
    "# First, it searches in the current parent class if not available, then searches in the parents class specified while inheriting (that is left to right.)"
   ]
  },
  {
   "cell_type": "code",
   "execution_count": null,
   "metadata": {},
   "outputs": [
    {
     "name": "stdout",
     "output_type": "stream",
     "text": [
      " In class C\n",
      "[<class '__main__.C'>, <class '__main__.B'>, <class '__main__.A'>, <class 'object'>]\n"
     ]
    }
   ],
   "source": [
    "class A:\n",
    "    def process(self):\n",
    "        print(\" In class A\")\n",
    "\n",
    "class B(A):\n",
    "    def process(self):\n",
    "        print(\" In class B\")\n",
    "\n",
    "class C(B, A):\n",
    "    def process(self):\n",
    "        print(\" In class C\")\n",
    "\n",
    "# Creating object of C class\n",
    "C1 = C()\n",
    "C1.process()\n",
    "print(C.mro())"
   ]
  },
  {
   "cell_type": "code",
   "execution_count": 47,
   "metadata": {},
   "outputs": [
    {
     "ename": "NotImplementedError",
     "evalue": "Area method must be implemented by subclasses",
     "output_type": "error",
     "traceback": [
      "\u001b[1;31m---------------------------------------------------------------------------\u001b[0m",
      "\u001b[1;31mNotImplementedError\u001b[0m                       Traceback (most recent call last)",
      "Cell \u001b[1;32mIn[47], line 18\u001b[0m\n\u001b[0;32m     15\u001b[0m shapes \u001b[38;5;241m=\u001b[39m [Circle(\u001b[38;5;241m5\u001b[39m), Square(\u001b[38;5;241m7\u001b[39m), Circle(\u001b[38;5;241m3\u001b[39m)]\n\u001b[0;32m     17\u001b[0m \u001b[38;5;28;01mfor\u001b[39;00m shape \u001b[38;5;129;01min\u001b[39;00m shapes:\n\u001b[1;32m---> 18\u001b[0m     \u001b[38;5;28mprint\u001b[39m(\u001b[43mshape\u001b[49m\u001b[38;5;241;43m.\u001b[39;49m\u001b[43marea\u001b[49m\u001b[43m(\u001b[49m\u001b[43m)\u001b[49m)  \u001b[38;5;66;03m# Output: 78.53975, 49, 28.27431\u001b[39;00m\n",
      "Cell \u001b[1;32mIn[47], line 4\u001b[0m, in \u001b[0;36mShape.area\u001b[1;34m(self)\u001b[0m\n\u001b[0;32m      2\u001b[0m \u001b[38;5;28;01mdef\u001b[39;00m\u001b[38;5;250m \u001b[39m\u001b[38;5;21marea\u001b[39m(\u001b[38;5;28mself\u001b[39m):\n\u001b[0;32m      3\u001b[0m     \u001b[38;5;28;01mpass\u001b[39;00m\n\u001b[1;32m----> 4\u001b[0m     \u001b[38;5;28;01mraise\u001b[39;00m \u001b[38;5;167;01mNotImplementedError\u001b[39;00m(\u001b[38;5;124m\"\u001b[39m\u001b[38;5;124mArea method must be implemented by subclasses\u001b[39m\u001b[38;5;124m\"\u001b[39m)\n",
      "\u001b[1;31mNotImplementedError\u001b[0m: Area method must be implemented by subclasses"
     ]
    }
   ],
   "source": [
    "class Shape:\n",
    "    def area(self):\n",
    "        pass\n",
    "        raise NotImplementedError(\"Area method must be implemented by subclasses\")\n",
    "\n",
    "class Circle(Shape):\n",
    "    def __init__(self, radius):\n",
    "        self.radius = radius\n",
    "\n",
    "class Square(Shape):\n",
    "    def __init__(self, side):\n",
    "        self.side = side\n",
    "\n",
    "# Example of polymorphism\n",
    "shapes = [Circle(5), Square(7), Circle(3)]\n",
    "\n",
    "for shape in shapes:\n",
    "    print(shape.area())  # Output: 78.53975, 49, 28.27431"
   ]
  },
  {
   "cell_type": "code",
   "execution_count": null,
   "metadata": {},
   "outputs": [],
   "source": []
  }
 ],
 "metadata": {
  "kernelspec": {
   "display_name": ".venv",
   "language": "python",
   "name": "python3"
  },
  "language_info": {
   "codemirror_mode": {
    "name": "ipython",
    "version": 3
   },
   "file_extension": ".py",
   "mimetype": "text/x-python",
   "name": "python",
   "nbconvert_exporter": "python",
   "pygments_lexer": "ipython3",
   "version": "3.12.1"
  },
  "prev_pub_hash": "252ef91d0bb13b462b79b6278502193a9e4638b605666d4db9137145ed6a0d74"
 },
 "nbformat": 4,
 "nbformat_minor": 4
}
